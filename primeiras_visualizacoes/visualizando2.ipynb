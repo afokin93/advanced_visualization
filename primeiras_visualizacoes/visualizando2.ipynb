{
 "cells": [
  {
   "cell_type": "code",
   "execution_count": 1,
   "metadata": {},
   "outputs": [],
   "source": [
    "import numpy as np\n",
    "import pandas as pd\n",
    "import dash\n",
    "import plotly.graph_objs as go"
   ]
  },
  {
   "cell_type": "code",
   "execution_count": 2,
   "metadata": {},
   "outputs": [
    {
     "data": {
      "text/html": [
       "<div>\n",
       "<style scoped>\n",
       "    .dataframe tbody tr th:only-of-type {\n",
       "        vertical-align: middle;\n",
       "    }\n",
       "\n",
       "    .dataframe tbody tr th {\n",
       "        vertical-align: top;\n",
       "    }\n",
       "\n",
       "    .dataframe thead th {\n",
       "        text-align: right;\n",
       "    }\n",
       "</style>\n",
       "<table border=\"1\" class=\"dataframe\">\n",
       "  <thead>\n",
       "    <tr style=\"text-align: right;\">\n",
       "      <th></th>\n",
       "      <th>Series Name</th>\n",
       "      <th>Series Code</th>\n",
       "      <th>Country Name</th>\n",
       "      <th>Country Code</th>\n",
       "      <th>1960</th>\n",
       "      <th>1961</th>\n",
       "      <th>1962</th>\n",
       "      <th>1963</th>\n",
       "      <th>1964</th>\n",
       "      <th>1965</th>\n",
       "      <th>...</th>\n",
       "      <th>2012</th>\n",
       "      <th>2013</th>\n",
       "      <th>2014</th>\n",
       "      <th>2015</th>\n",
       "      <th>2016</th>\n",
       "      <th>2017</th>\n",
       "      <th>2018</th>\n",
       "      <th>2019</th>\n",
       "      <th>2020</th>\n",
       "      <th>2021</th>\n",
       "    </tr>\n",
       "  </thead>\n",
       "  <tbody>\n",
       "    <tr>\n",
       "      <th>0</th>\n",
       "      <td>life_expectancy</td>\n",
       "      <td>SP.DYN.LE00.IN</td>\n",
       "      <td>Belgium</td>\n",
       "      <td>BEL</td>\n",
       "      <td>69.701951</td>\n",
       "      <td>70.520976</td>\n",
       "      <td>70.219512</td>\n",
       "      <td>70.051463</td>\n",
       "      <td>70.755122</td>\n",
       "      <td>70.625366</td>\n",
       "      <td>...</td>\n",
       "      <td>80.385366</td>\n",
       "      <td>80.587805</td>\n",
       "      <td>81.287805</td>\n",
       "      <td>80.992683</td>\n",
       "      <td>81.439024</td>\n",
       "      <td>81.492683</td>\n",
       "      <td>81.595122</td>\n",
       "      <td>81.995122</td>\n",
       "      <td>80.795122</td>\n",
       "      <td>NaN</td>\n",
       "    </tr>\n",
       "    <tr>\n",
       "      <th>1</th>\n",
       "      <td>life_expectancy</td>\n",
       "      <td>SP.DYN.LE00.IN</td>\n",
       "      <td>Albania</td>\n",
       "      <td>ALB</td>\n",
       "      <td>54.439000</td>\n",
       "      <td>55.634000</td>\n",
       "      <td>56.671000</td>\n",
       "      <td>57.844000</td>\n",
       "      <td>58.983000</td>\n",
       "      <td>60.019000</td>\n",
       "      <td>...</td>\n",
       "      <td>78.064000</td>\n",
       "      <td>78.123000</td>\n",
       "      <td>78.407000</td>\n",
       "      <td>78.644000</td>\n",
       "      <td>78.860000</td>\n",
       "      <td>79.047000</td>\n",
       "      <td>79.184000</td>\n",
       "      <td>79.282000</td>\n",
       "      <td>76.989000</td>\n",
       "      <td>NaN</td>\n",
       "    </tr>\n",
       "    <tr>\n",
       "      <th>2</th>\n",
       "      <td>life_expectancy</td>\n",
       "      <td>SP.DYN.LE00.IN</td>\n",
       "      <td>Austria</td>\n",
       "      <td>AUT</td>\n",
       "      <td>68.585610</td>\n",
       "      <td>69.577317</td>\n",
       "      <td>69.309512</td>\n",
       "      <td>69.443659</td>\n",
       "      <td>69.921951</td>\n",
       "      <td>69.722195</td>\n",
       "      <td>...</td>\n",
       "      <td>80.936585</td>\n",
       "      <td>81.136585</td>\n",
       "      <td>81.490244</td>\n",
       "      <td>81.190244</td>\n",
       "      <td>81.641463</td>\n",
       "      <td>81.643902</td>\n",
       "      <td>81.692683</td>\n",
       "      <td>81.895122</td>\n",
       "      <td>81.192683</td>\n",
       "      <td>NaN</td>\n",
       "    </tr>\n",
       "    <tr>\n",
       "      <th>3</th>\n",
       "      <td>life_expectancy</td>\n",
       "      <td>SP.DYN.LE00.IN</td>\n",
       "      <td>Belarus</td>\n",
       "      <td>BLR</td>\n",
       "      <td>69.254610</td>\n",
       "      <td>69.738390</td>\n",
       "      <td>69.462317</td>\n",
       "      <td>69.709780</td>\n",
       "      <td>70.619244</td>\n",
       "      <td>70.597488</td>\n",
       "      <td>...</td>\n",
       "      <td>71.965854</td>\n",
       "      <td>72.470732</td>\n",
       "      <td>72.970732</td>\n",
       "      <td>73.624390</td>\n",
       "      <td>73.826829</td>\n",
       "      <td>74.129268</td>\n",
       "      <td>74.175610</td>\n",
       "      <td>74.226829</td>\n",
       "      <td>74.226829</td>\n",
       "      <td>NaN</td>\n",
       "    </tr>\n",
       "    <tr>\n",
       "      <th>4</th>\n",
       "      <td>life_expectancy</td>\n",
       "      <td>SP.DYN.LE00.IN</td>\n",
       "      <td>Bulgaria</td>\n",
       "      <td>BGR</td>\n",
       "      <td>69.247561</td>\n",
       "      <td>70.195610</td>\n",
       "      <td>69.491951</td>\n",
       "      <td>70.309268</td>\n",
       "      <td>71.121220</td>\n",
       "      <td>71.293902</td>\n",
       "      <td>...</td>\n",
       "      <td>74.314634</td>\n",
       "      <td>74.860976</td>\n",
       "      <td>74.465854</td>\n",
       "      <td>74.614634</td>\n",
       "      <td>74.812195</td>\n",
       "      <td>74.814634</td>\n",
       "      <td>74.963415</td>\n",
       "      <td>75.112195</td>\n",
       "      <td>73.607317</td>\n",
       "      <td>NaN</td>\n",
       "    </tr>\n",
       "  </tbody>\n",
       "</table>\n",
       "<p>5 rows × 66 columns</p>\n",
       "</div>"
      ],
      "text/plain": [
       "       Series Name     Series Code Country Name Country Code       1960  \\\n",
       "0  life_expectancy  SP.DYN.LE00.IN      Belgium          BEL  69.701951   \n",
       "1  life_expectancy  SP.DYN.LE00.IN      Albania          ALB  54.439000   \n",
       "2  life_expectancy  SP.DYN.LE00.IN      Austria          AUT  68.585610   \n",
       "3  life_expectancy  SP.DYN.LE00.IN      Belarus          BLR  69.254610   \n",
       "4  life_expectancy  SP.DYN.LE00.IN     Bulgaria          BGR  69.247561   \n",
       "\n",
       "        1961       1962       1963       1964       1965  ...       2012  \\\n",
       "0  70.520976  70.219512  70.051463  70.755122  70.625366  ...  80.385366   \n",
       "1  55.634000  56.671000  57.844000  58.983000  60.019000  ...  78.064000   \n",
       "2  69.577317  69.309512  69.443659  69.921951  69.722195  ...  80.936585   \n",
       "3  69.738390  69.462317  69.709780  70.619244  70.597488  ...  71.965854   \n",
       "4  70.195610  69.491951  70.309268  71.121220  71.293902  ...  74.314634   \n",
       "\n",
       "        2013       2014       2015       2016       2017       2018  \\\n",
       "0  80.587805  81.287805  80.992683  81.439024  81.492683  81.595122   \n",
       "1  78.123000  78.407000  78.644000  78.860000  79.047000  79.184000   \n",
       "2  81.136585  81.490244  81.190244  81.641463  81.643902  81.692683   \n",
       "3  72.470732  72.970732  73.624390  73.826829  74.129268  74.175610   \n",
       "4  74.860976  74.465854  74.614634  74.812195  74.814634  74.963415   \n",
       "\n",
       "        2019       2020  2021  \n",
       "0  81.995122  80.795122   NaN  \n",
       "1  79.282000  76.989000   NaN  \n",
       "2  81.895122  81.192683   NaN  \n",
       "3  74.226829  74.226829   NaN  \n",
       "4  75.112195  73.607317   NaN  \n",
       "\n",
       "[5 rows x 66 columns]"
      ]
     },
     "metadata": {},
     "output_type": "display_data"
    }
   ],
   "source": [
    "paises = pd.read_csv('/home/rafael/git/advanced_visualization/primeiros_testes/dados_paises.csv')\n",
    "display(paises.head())"
   ]
  },
  {
   "cell_type": "code",
   "execution_count": 30,
   "metadata": {},
   "outputs": [
    {
     "data": {
      "application/vnd.plotly.v1+json": {
       "config": {
        "plotlyServerURL": "https://plot.ly"
       },
       "data": [
        {
         "colorbar": {
          "dtick": [
           200,
           400,
           600,
           800
          ],
          "title": {
           "text": "Inflação"
          },
          "xanchor": "center"
         },
         "colorscale": [
          [
           0,
           "rgb(255,245,240)"
          ],
          [
           0.125,
           "rgb(254,224,210)"
          ],
          [
           0.25,
           "rgb(252,187,161)"
          ],
          [
           0.375,
           "rgb(252,146,114)"
          ],
          [
           0.5,
           "rgb(251,106,74)"
          ],
          [
           0.625,
           "rgb(239,59,44)"
          ],
          [
           0.75,
           "rgb(203,24,29)"
          ],
          [
           0.875,
           "rgb(165,15,21)"
          ],
          [
           1,
           "rgb(103,0,13)"
          ]
         ],
         "hoverinfo": "text",
         "locations": [
          "BEL",
          "ALB",
          "AUT",
          "BLR",
          "BGR",
          "HRV",
          "CYP",
          "DNK",
          "EST",
          "CZE",
          "FIN",
          "DEU",
          "GRC",
          "FRA",
          "ISL",
          "HUN",
          "IRL",
          "ITA",
          "LVA",
          "LTU",
          "MLT",
          "MDA",
          "MNE",
          "NOR",
          "PRT",
          "ROU",
          "RUS",
          "BIH",
          "LUX",
          "MKD",
          "SRB",
          "SVK",
          "SVN",
          "ESP",
          "SWE",
          "CHE",
          "UKR",
          "GBR",
          "BEL",
          "ALB",
          "AUT",
          "BLR",
          "BGR",
          "HRV",
          "CYP",
          "DNK",
          "EST",
          "CZE",
          "FIN",
          "DEU",
          "GRC",
          "FRA",
          "ISL",
          "HUN",
          "IRL",
          "ITA",
          "LVA",
          "LTU",
          "MLT",
          "MDA",
          "MNE",
          "NOR",
          "PRT",
          "ROU",
          "RUS",
          "BIH",
          "LUX",
          "MKD",
          "SRB",
          "SVK",
          "SVN",
          "ESP",
          "SWE",
          "CHE",
          "UKR",
          "GBR",
          "BEL",
          "ALB",
          "AUT",
          "BLR",
          "BGR",
          "HRV",
          "CYP",
          "DNK",
          "EST",
          "CZE",
          "FIN",
          "DEU",
          "GRC",
          "FRA",
          "ISL",
          "HUN",
          "IRL",
          "ITA",
          "LVA",
          "LTU",
          "MLT",
          "MDA",
          "MNE",
          "NOR",
          "PRT",
          "ROU",
          "RUS",
          "BIH",
          "LUX",
          "MKD",
          "SRB",
          "SVK",
          "SVN",
          "ESP",
          "SWE",
          "CHE",
          "UKR",
          "GBR",
          "BEL",
          "ALB",
          "AUT",
          "BLR",
          "BGR",
          "HRV",
          "CYP",
          "DNK",
          "EST",
          "CZE",
          "FIN",
          "DEU",
          "GRC",
          "FRA",
          "ISL",
          "HUN",
          "IRL",
          "ITA",
          "LVA",
          "LTU",
          "MLT",
          "MDA",
          "MNE",
          "NOR",
          "PRT",
          "ROU",
          "RUS",
          "BIH",
          "LUX",
          "MKD",
          "SRB",
          "SVK",
          "SVN",
          "ESP",
          "SWE",
          "CHE",
          "UKR",
          "GBR"
         ],
         "text": [
          1.46796699090272,
          7.79321853789215,
          2.24336631500904,
          709.346032118606,
          62.0548336837993,
          3.95010395010403,
          2.61581787956337,
          2.0836084238285,
          28.7766137208514,
          8.99052361478446,
          0.791239406938448,
          1.70616052419454,
          8.93451415961518,
          1.79648142095595,
          1.65123150116651,
          28.3054683706654,
          2.52486728005296,
          5.23542258044299,
          24.975935531675,
          39.647629032829,
          4.42664550286656,
          29.8656104095718,
          null,
          2.46036778693723,
          4.22281614099486,
          32.2424847257597,
          197.414268084251,
          null,
          1.86769424969108,
          16.3735889723568,
          82.6605151864663,
          9.84109579837757,
          13.4637296178669,
          4.67380337624704,
          2.45514857818396,
          1.79982776867147,
          376.746174768209,
          2.69749518304432
         ],
         "type": "choropleth",
         "z": [
          0.16671629002829563,
          0.8917168549213208,
          0.3509001944914481,
          2.850858143757209,
          1.7927756159788302,
          0.596608524579006,
          0.41760750392823354,
          0.31881610457503795,
          1.4590396871379832,
          0.9537849861035674,
          -0.10169209124185423,
          0.23201988937091744,
          0.9510709414488348,
          0.25442273013068606,
          0.21780796522587895,
          1.4518703455520925,
          0.4022385543138778,
          0.718951741783287,
          1.397521764711218,
          1.598217221193421,
          0.6460747439546011,
          1.4751713955203791,
          null,
          0.39100003226530566,
          0.6256021729026146,
          1.5084285027703228,
          2.295378538031312,
          null,
          0.2713057816691121,
          1.2141438840578231,
          1.9172981077197302,
          0.9930434594772939,
          1.1291653814401763,
          0.6696704379648301,
          0.3900777794459142,
          0.2552309480508829,
          2.576048851469768,
          0.43096067782978087
         ]
        }
       ],
       "layout": {
        "geo": {
         "countrycolor": "Black",
         "resolution": 50,
         "scope": "europe",
         "showcountries": true,
         "visible": false
        },
        "margin": {
         "b": 0,
         "l": 0,
         "r": 0,
         "t": 0
        },
        "template": {
         "data": {
          "bar": [
           {
            "error_x": {
             "color": "#2a3f5f"
            },
            "error_y": {
             "color": "#2a3f5f"
            },
            "marker": {
             "line": {
              "color": "#E5ECF6",
              "width": 0.5
             },
             "pattern": {
              "fillmode": "overlay",
              "size": 10,
              "solidity": 0.2
             }
            },
            "type": "bar"
           }
          ],
          "barpolar": [
           {
            "marker": {
             "line": {
              "color": "#E5ECF6",
              "width": 0.5
             },
             "pattern": {
              "fillmode": "overlay",
              "size": 10,
              "solidity": 0.2
             }
            },
            "type": "barpolar"
           }
          ],
          "carpet": [
           {
            "aaxis": {
             "endlinecolor": "#2a3f5f",
             "gridcolor": "white",
             "linecolor": "white",
             "minorgridcolor": "white",
             "startlinecolor": "#2a3f5f"
            },
            "baxis": {
             "endlinecolor": "#2a3f5f",
             "gridcolor": "white",
             "linecolor": "white",
             "minorgridcolor": "white",
             "startlinecolor": "#2a3f5f"
            },
            "type": "carpet"
           }
          ],
          "choropleth": [
           {
            "colorbar": {
             "outlinewidth": 0,
             "ticks": ""
            },
            "type": "choropleth"
           }
          ],
          "contour": [
           {
            "colorbar": {
             "outlinewidth": 0,
             "ticks": ""
            },
            "colorscale": [
             [
              0,
              "#0d0887"
             ],
             [
              0.1111111111111111,
              "#46039f"
             ],
             [
              0.2222222222222222,
              "#7201a8"
             ],
             [
              0.3333333333333333,
              "#9c179e"
             ],
             [
              0.4444444444444444,
              "#bd3786"
             ],
             [
              0.5555555555555556,
              "#d8576b"
             ],
             [
              0.6666666666666666,
              "#ed7953"
             ],
             [
              0.7777777777777778,
              "#fb9f3a"
             ],
             [
              0.8888888888888888,
              "#fdca26"
             ],
             [
              1,
              "#f0f921"
             ]
            ],
            "type": "contour"
           }
          ],
          "contourcarpet": [
           {
            "colorbar": {
             "outlinewidth": 0,
             "ticks": ""
            },
            "type": "contourcarpet"
           }
          ],
          "heatmap": [
           {
            "colorbar": {
             "outlinewidth": 0,
             "ticks": ""
            },
            "colorscale": [
             [
              0,
              "#0d0887"
             ],
             [
              0.1111111111111111,
              "#46039f"
             ],
             [
              0.2222222222222222,
              "#7201a8"
             ],
             [
              0.3333333333333333,
              "#9c179e"
             ],
             [
              0.4444444444444444,
              "#bd3786"
             ],
             [
              0.5555555555555556,
              "#d8576b"
             ],
             [
              0.6666666666666666,
              "#ed7953"
             ],
             [
              0.7777777777777778,
              "#fb9f3a"
             ],
             [
              0.8888888888888888,
              "#fdca26"
             ],
             [
              1,
              "#f0f921"
             ]
            ],
            "type": "heatmap"
           }
          ],
          "heatmapgl": [
           {
            "colorbar": {
             "outlinewidth": 0,
             "ticks": ""
            },
            "colorscale": [
             [
              0,
              "#0d0887"
             ],
             [
              0.1111111111111111,
              "#46039f"
             ],
             [
              0.2222222222222222,
              "#7201a8"
             ],
             [
              0.3333333333333333,
              "#9c179e"
             ],
             [
              0.4444444444444444,
              "#bd3786"
             ],
             [
              0.5555555555555556,
              "#d8576b"
             ],
             [
              0.6666666666666666,
              "#ed7953"
             ],
             [
              0.7777777777777778,
              "#fb9f3a"
             ],
             [
              0.8888888888888888,
              "#fdca26"
             ],
             [
              1,
              "#f0f921"
             ]
            ],
            "type": "heatmapgl"
           }
          ],
          "histogram": [
           {
            "marker": {
             "pattern": {
              "fillmode": "overlay",
              "size": 10,
              "solidity": 0.2
             }
            },
            "type": "histogram"
           }
          ],
          "histogram2d": [
           {
            "colorbar": {
             "outlinewidth": 0,
             "ticks": ""
            },
            "colorscale": [
             [
              0,
              "#0d0887"
             ],
             [
              0.1111111111111111,
              "#46039f"
             ],
             [
              0.2222222222222222,
              "#7201a8"
             ],
             [
              0.3333333333333333,
              "#9c179e"
             ],
             [
              0.4444444444444444,
              "#bd3786"
             ],
             [
              0.5555555555555556,
              "#d8576b"
             ],
             [
              0.6666666666666666,
              "#ed7953"
             ],
             [
              0.7777777777777778,
              "#fb9f3a"
             ],
             [
              0.8888888888888888,
              "#fdca26"
             ],
             [
              1,
              "#f0f921"
             ]
            ],
            "type": "histogram2d"
           }
          ],
          "histogram2dcontour": [
           {
            "colorbar": {
             "outlinewidth": 0,
             "ticks": ""
            },
            "colorscale": [
             [
              0,
              "#0d0887"
             ],
             [
              0.1111111111111111,
              "#46039f"
             ],
             [
              0.2222222222222222,
              "#7201a8"
             ],
             [
              0.3333333333333333,
              "#9c179e"
             ],
             [
              0.4444444444444444,
              "#bd3786"
             ],
             [
              0.5555555555555556,
              "#d8576b"
             ],
             [
              0.6666666666666666,
              "#ed7953"
             ],
             [
              0.7777777777777778,
              "#fb9f3a"
             ],
             [
              0.8888888888888888,
              "#fdca26"
             ],
             [
              1,
              "#f0f921"
             ]
            ],
            "type": "histogram2dcontour"
           }
          ],
          "mesh3d": [
           {
            "colorbar": {
             "outlinewidth": 0,
             "ticks": ""
            },
            "type": "mesh3d"
           }
          ],
          "parcoords": [
           {
            "line": {
             "colorbar": {
              "outlinewidth": 0,
              "ticks": ""
             }
            },
            "type": "parcoords"
           }
          ],
          "pie": [
           {
            "automargin": true,
            "type": "pie"
           }
          ],
          "scatter": [
           {
            "fillpattern": {
             "fillmode": "overlay",
             "size": 10,
             "solidity": 0.2
            },
            "type": "scatter"
           }
          ],
          "scatter3d": [
           {
            "line": {
             "colorbar": {
              "outlinewidth": 0,
              "ticks": ""
             }
            },
            "marker": {
             "colorbar": {
              "outlinewidth": 0,
              "ticks": ""
             }
            },
            "type": "scatter3d"
           }
          ],
          "scattercarpet": [
           {
            "marker": {
             "colorbar": {
              "outlinewidth": 0,
              "ticks": ""
             }
            },
            "type": "scattercarpet"
           }
          ],
          "scattergeo": [
           {
            "marker": {
             "colorbar": {
              "outlinewidth": 0,
              "ticks": ""
             }
            },
            "type": "scattergeo"
           }
          ],
          "scattergl": [
           {
            "marker": {
             "colorbar": {
              "outlinewidth": 0,
              "ticks": ""
             }
            },
            "type": "scattergl"
           }
          ],
          "scattermapbox": [
           {
            "marker": {
             "colorbar": {
              "outlinewidth": 0,
              "ticks": ""
             }
            },
            "type": "scattermapbox"
           }
          ],
          "scatterpolar": [
           {
            "marker": {
             "colorbar": {
              "outlinewidth": 0,
              "ticks": ""
             }
            },
            "type": "scatterpolar"
           }
          ],
          "scatterpolargl": [
           {
            "marker": {
             "colorbar": {
              "outlinewidth": 0,
              "ticks": ""
             }
            },
            "type": "scatterpolargl"
           }
          ],
          "scatterternary": [
           {
            "marker": {
             "colorbar": {
              "outlinewidth": 0,
              "ticks": ""
             }
            },
            "type": "scatterternary"
           }
          ],
          "surface": [
           {
            "colorbar": {
             "outlinewidth": 0,
             "ticks": ""
            },
            "colorscale": [
             [
              0,
              "#0d0887"
             ],
             [
              0.1111111111111111,
              "#46039f"
             ],
             [
              0.2222222222222222,
              "#7201a8"
             ],
             [
              0.3333333333333333,
              "#9c179e"
             ],
             [
              0.4444444444444444,
              "#bd3786"
             ],
             [
              0.5555555555555556,
              "#d8576b"
             ],
             [
              0.6666666666666666,
              "#ed7953"
             ],
             [
              0.7777777777777778,
              "#fb9f3a"
             ],
             [
              0.8888888888888888,
              "#fdca26"
             ],
             [
              1,
              "#f0f921"
             ]
            ],
            "type": "surface"
           }
          ],
          "table": [
           {
            "cells": {
             "fill": {
              "color": "#EBF0F8"
             },
             "line": {
              "color": "white"
             }
            },
            "header": {
             "fill": {
              "color": "#C8D4E3"
             },
             "line": {
              "color": "white"
             }
            },
            "type": "table"
           }
          ]
         },
         "layout": {
          "annotationdefaults": {
           "arrowcolor": "#2a3f5f",
           "arrowhead": 0,
           "arrowwidth": 1
          },
          "autotypenumbers": "strict",
          "coloraxis": {
           "colorbar": {
            "outlinewidth": 0,
            "ticks": ""
           }
          },
          "colorscale": {
           "diverging": [
            [
             0,
             "#8e0152"
            ],
            [
             0.1,
             "#c51b7d"
            ],
            [
             0.2,
             "#de77ae"
            ],
            [
             0.3,
             "#f1b6da"
            ],
            [
             0.4,
             "#fde0ef"
            ],
            [
             0.5,
             "#f7f7f7"
            ],
            [
             0.6,
             "#e6f5d0"
            ],
            [
             0.7,
             "#b8e186"
            ],
            [
             0.8,
             "#7fbc41"
            ],
            [
             0.9,
             "#4d9221"
            ],
            [
             1,
             "#276419"
            ]
           ],
           "sequential": [
            [
             0,
             "#0d0887"
            ],
            [
             0.1111111111111111,
             "#46039f"
            ],
            [
             0.2222222222222222,
             "#7201a8"
            ],
            [
             0.3333333333333333,
             "#9c179e"
            ],
            [
             0.4444444444444444,
             "#bd3786"
            ],
            [
             0.5555555555555556,
             "#d8576b"
            ],
            [
             0.6666666666666666,
             "#ed7953"
            ],
            [
             0.7777777777777778,
             "#fb9f3a"
            ],
            [
             0.8888888888888888,
             "#fdca26"
            ],
            [
             1,
             "#f0f921"
            ]
           ],
           "sequentialminus": [
            [
             0,
             "#0d0887"
            ],
            [
             0.1111111111111111,
             "#46039f"
            ],
            [
             0.2222222222222222,
             "#7201a8"
            ],
            [
             0.3333333333333333,
             "#9c179e"
            ],
            [
             0.4444444444444444,
             "#bd3786"
            ],
            [
             0.5555555555555556,
             "#d8576b"
            ],
            [
             0.6666666666666666,
             "#ed7953"
            ],
            [
             0.7777777777777778,
             "#fb9f3a"
            ],
            [
             0.8888888888888888,
             "#fdca26"
            ],
            [
             1,
             "#f0f921"
            ]
           ]
          },
          "colorway": [
           "#636efa",
           "#EF553B",
           "#00cc96",
           "#ab63fa",
           "#FFA15A",
           "#19d3f3",
           "#FF6692",
           "#B6E880",
           "#FF97FF",
           "#FECB52"
          ],
          "font": {
           "color": "#2a3f5f"
          },
          "geo": {
           "bgcolor": "white",
           "lakecolor": "white",
           "landcolor": "#E5ECF6",
           "showlakes": true,
           "showland": true,
           "subunitcolor": "white"
          },
          "hoverlabel": {
           "align": "left"
          },
          "hovermode": "closest",
          "mapbox": {
           "style": "light"
          },
          "paper_bgcolor": "white",
          "plot_bgcolor": "#E5ECF6",
          "polar": {
           "angularaxis": {
            "gridcolor": "white",
            "linecolor": "white",
            "ticks": ""
           },
           "bgcolor": "#E5ECF6",
           "radialaxis": {
            "gridcolor": "white",
            "linecolor": "white",
            "ticks": ""
           }
          },
          "scene": {
           "xaxis": {
            "backgroundcolor": "#E5ECF6",
            "gridcolor": "white",
            "gridwidth": 2,
            "linecolor": "white",
            "showbackground": true,
            "ticks": "",
            "zerolinecolor": "white"
           },
           "yaxis": {
            "backgroundcolor": "#E5ECF6",
            "gridcolor": "white",
            "gridwidth": 2,
            "linecolor": "white",
            "showbackground": true,
            "ticks": "",
            "zerolinecolor": "white"
           },
           "zaxis": {
            "backgroundcolor": "#E5ECF6",
            "gridcolor": "white",
            "gridwidth": 2,
            "linecolor": "white",
            "showbackground": true,
            "ticks": "",
            "zerolinecolor": "white"
           }
          },
          "shapedefaults": {
           "line": {
            "color": "#2a3f5f"
           }
          },
          "ternary": {
           "aaxis": {
            "gridcolor": "white",
            "linecolor": "white",
            "ticks": ""
           },
           "baxis": {
            "gridcolor": "white",
            "linecolor": "white",
            "ticks": ""
           },
           "bgcolor": "#E5ECF6",
           "caxis": {
            "gridcolor": "white",
            "linecolor": "white",
            "ticks": ""
           }
          },
          "title": {
           "x": 0.05
          },
          "xaxis": {
           "automargin": true,
           "gridcolor": "white",
           "linecolor": "white",
           "ticks": "",
           "title": {
            "standoff": 15
           },
           "zerolinecolor": "white",
           "zerolinewidth": 2
          },
          "yaxis": {
           "automargin": true,
           "gridcolor": "white",
           "linecolor": "white",
           "ticks": "",
           "title": {
            "standoff": 15
           },
           "zerolinecolor": "white",
           "zerolinewidth": 2
          }
         }
        }
       }
      }
     },
     "metadata": {},
     "output_type": "display_data"
    }
   ],
   "source": [
    "fig = go.Figure(data=go.Choropleth(locations=europa['Country Code'],\n",
    "                                    z = np.log10(europa['1995'].loc[europa['Series Name']=='inflation']),\n",
    "                                    hoverinfo = 'text',\n",
    "                                    text= europa['1995'].loc[europa['Series Name']=='inflation'],\n",
    "                                    colorscale='Reds',\n",
    "                                    colorbar=dict(\n",
    "                                        title='Inflação',\n",
    "                                        dtick = [200, 400, 600, 800],\n",
    "                                        xanchor = 'center'\n",
    "                                    ),\n",
    "                                    ))\n",
    "\n",
    "fig.update_geos(\n",
    "    visible=False, resolution=50, scope=\"europe\",\n",
    "    showcountries=True, countrycolor=\"Black\"\n",
    ")\n",
    "fig.update_layout(margin={\"r\": 0, \"t\": 0, \"l\": 0, \"b\": 0})\n",
    "fig.show()"
   ]
  },
  {
   "cell_type": "code",
   "execution_count": null,
   "metadata": {},
   "outputs": [],
   "source": []
  }
 ],
 "metadata": {
  "kernelspec": {
   "display_name": "Python 3",
   "language": "python",
   "name": "python3"
  },
  "language_info": {
   "codemirror_mode": {
    "name": "ipython",
    "version": 3
   },
   "file_extension": ".py",
   "mimetype": "text/x-python",
   "name": "python",
   "nbconvert_exporter": "python",
   "pygments_lexer": "ipython3",
   "version": "3.10.6"
  },
  "orig_nbformat": 4
 },
 "nbformat": 4,
 "nbformat_minor": 2
}
