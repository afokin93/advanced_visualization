{
 "cells": [
  {
   "cell_type": "code",
   "execution_count": 1,
   "metadata": {},
   "outputs": [],
   "source": [
    "import numpy as np\n",
    "import pandas as pd\n",
    "from dash import Dash, dcc, html, Input, Output\n",
    "from jupyter_dash import JupyterDash\n",
    "import plotly.graph_objs as go"
   ]
  },
  {
   "cell_type": "code",
   "execution_count": 2,
   "metadata": {},
   "outputs": [
    {
     "data": {
      "text/html": [
       "<div>\n",
       "<style scoped>\n",
       "    .dataframe tbody tr th:only-of-type {\n",
       "        vertical-align: middle;\n",
       "    }\n",
       "\n",
       "    .dataframe tbody tr th {\n",
       "        vertical-align: top;\n",
       "    }\n",
       "\n",
       "    .dataframe thead th {\n",
       "        text-align: right;\n",
       "    }\n",
       "</style>\n",
       "<table border=\"1\" class=\"dataframe\">\n",
       "  <thead>\n",
       "    <tr style=\"text-align: right;\">\n",
       "      <th></th>\n",
       "      <th>Series Name</th>\n",
       "      <th>Series Code</th>\n",
       "      <th>Country Name</th>\n",
       "      <th>Country Code</th>\n",
       "      <th>1960</th>\n",
       "      <th>1961</th>\n",
       "      <th>1962</th>\n",
       "      <th>1963</th>\n",
       "      <th>1964</th>\n",
       "      <th>1965</th>\n",
       "      <th>...</th>\n",
       "      <th>2012</th>\n",
       "      <th>2013</th>\n",
       "      <th>2014</th>\n",
       "      <th>2015</th>\n",
       "      <th>2016</th>\n",
       "      <th>2017</th>\n",
       "      <th>2018</th>\n",
       "      <th>2019</th>\n",
       "      <th>2020</th>\n",
       "      <th>2021</th>\n",
       "    </tr>\n",
       "  </thead>\n",
       "  <tbody>\n",
       "    <tr>\n",
       "      <th>0</th>\n",
       "      <td>life_expectancy</td>\n",
       "      <td>SP.DYN.LE00.IN</td>\n",
       "      <td>Belgium</td>\n",
       "      <td>BEL</td>\n",
       "      <td>69.701951</td>\n",
       "      <td>70.520976</td>\n",
       "      <td>70.219512</td>\n",
       "      <td>70.051463</td>\n",
       "      <td>70.755122</td>\n",
       "      <td>70.625366</td>\n",
       "      <td>...</td>\n",
       "      <td>80.385366</td>\n",
       "      <td>80.587805</td>\n",
       "      <td>81.287805</td>\n",
       "      <td>80.992683</td>\n",
       "      <td>81.439024</td>\n",
       "      <td>81.492683</td>\n",
       "      <td>81.595122</td>\n",
       "      <td>81.995122</td>\n",
       "      <td>80.795122</td>\n",
       "      <td>NaN</td>\n",
       "    </tr>\n",
       "    <tr>\n",
       "      <th>1</th>\n",
       "      <td>life_expectancy</td>\n",
       "      <td>SP.DYN.LE00.IN</td>\n",
       "      <td>Albania</td>\n",
       "      <td>ALB</td>\n",
       "      <td>54.439000</td>\n",
       "      <td>55.634000</td>\n",
       "      <td>56.671000</td>\n",
       "      <td>57.844000</td>\n",
       "      <td>58.983000</td>\n",
       "      <td>60.019000</td>\n",
       "      <td>...</td>\n",
       "      <td>78.064000</td>\n",
       "      <td>78.123000</td>\n",
       "      <td>78.407000</td>\n",
       "      <td>78.644000</td>\n",
       "      <td>78.860000</td>\n",
       "      <td>79.047000</td>\n",
       "      <td>79.184000</td>\n",
       "      <td>79.282000</td>\n",
       "      <td>76.989000</td>\n",
       "      <td>NaN</td>\n",
       "    </tr>\n",
       "    <tr>\n",
       "      <th>2</th>\n",
       "      <td>life_expectancy</td>\n",
       "      <td>SP.DYN.LE00.IN</td>\n",
       "      <td>Austria</td>\n",
       "      <td>AUT</td>\n",
       "      <td>68.585610</td>\n",
       "      <td>69.577317</td>\n",
       "      <td>69.309512</td>\n",
       "      <td>69.443659</td>\n",
       "      <td>69.921951</td>\n",
       "      <td>69.722195</td>\n",
       "      <td>...</td>\n",
       "      <td>80.936585</td>\n",
       "      <td>81.136585</td>\n",
       "      <td>81.490244</td>\n",
       "      <td>81.190244</td>\n",
       "      <td>81.641463</td>\n",
       "      <td>81.643902</td>\n",
       "      <td>81.692683</td>\n",
       "      <td>81.895122</td>\n",
       "      <td>81.192683</td>\n",
       "      <td>NaN</td>\n",
       "    </tr>\n",
       "    <tr>\n",
       "      <th>3</th>\n",
       "      <td>life_expectancy</td>\n",
       "      <td>SP.DYN.LE00.IN</td>\n",
       "      <td>Belarus</td>\n",
       "      <td>BLR</td>\n",
       "      <td>69.254610</td>\n",
       "      <td>69.738390</td>\n",
       "      <td>69.462317</td>\n",
       "      <td>69.709780</td>\n",
       "      <td>70.619244</td>\n",
       "      <td>70.597488</td>\n",
       "      <td>...</td>\n",
       "      <td>71.965854</td>\n",
       "      <td>72.470732</td>\n",
       "      <td>72.970732</td>\n",
       "      <td>73.624390</td>\n",
       "      <td>73.826829</td>\n",
       "      <td>74.129268</td>\n",
       "      <td>74.175610</td>\n",
       "      <td>74.226829</td>\n",
       "      <td>74.226829</td>\n",
       "      <td>NaN</td>\n",
       "    </tr>\n",
       "    <tr>\n",
       "      <th>4</th>\n",
       "      <td>life_expectancy</td>\n",
       "      <td>SP.DYN.LE00.IN</td>\n",
       "      <td>Bulgaria</td>\n",
       "      <td>BGR</td>\n",
       "      <td>69.247561</td>\n",
       "      <td>70.195610</td>\n",
       "      <td>69.491951</td>\n",
       "      <td>70.309268</td>\n",
       "      <td>71.121220</td>\n",
       "      <td>71.293902</td>\n",
       "      <td>...</td>\n",
       "      <td>74.314634</td>\n",
       "      <td>74.860976</td>\n",
       "      <td>74.465854</td>\n",
       "      <td>74.614634</td>\n",
       "      <td>74.812195</td>\n",
       "      <td>74.814634</td>\n",
       "      <td>74.963415</td>\n",
       "      <td>75.112195</td>\n",
       "      <td>73.607317</td>\n",
       "      <td>NaN</td>\n",
       "    </tr>\n",
       "  </tbody>\n",
       "</table>\n",
       "<p>5 rows × 66 columns</p>\n",
       "</div>"
      ],
      "text/plain": [
       "       Series Name     Series Code Country Name Country Code       1960  \\\n",
       "0  life_expectancy  SP.DYN.LE00.IN      Belgium          BEL  69.701951   \n",
       "1  life_expectancy  SP.DYN.LE00.IN      Albania          ALB  54.439000   \n",
       "2  life_expectancy  SP.DYN.LE00.IN      Austria          AUT  68.585610   \n",
       "3  life_expectancy  SP.DYN.LE00.IN      Belarus          BLR  69.254610   \n",
       "4  life_expectancy  SP.DYN.LE00.IN     Bulgaria          BGR  69.247561   \n",
       "\n",
       "        1961       1962       1963       1964       1965  ...       2012  \\\n",
       "0  70.520976  70.219512  70.051463  70.755122  70.625366  ...  80.385366   \n",
       "1  55.634000  56.671000  57.844000  58.983000  60.019000  ...  78.064000   \n",
       "2  69.577317  69.309512  69.443659  69.921951  69.722195  ...  80.936585   \n",
       "3  69.738390  69.462317  69.709780  70.619244  70.597488  ...  71.965854   \n",
       "4  70.195610  69.491951  70.309268  71.121220  71.293902  ...  74.314634   \n",
       "\n",
       "        2013       2014       2015       2016       2017       2018  \\\n",
       "0  80.587805  81.287805  80.992683  81.439024  81.492683  81.595122   \n",
       "1  78.123000  78.407000  78.644000  78.860000  79.047000  79.184000   \n",
       "2  81.136585  81.490244  81.190244  81.641463  81.643902  81.692683   \n",
       "3  72.470732  72.970732  73.624390  73.826829  74.129268  74.175610   \n",
       "4  74.860976  74.465854  74.614634  74.812195  74.814634  74.963415   \n",
       "\n",
       "        2019       2020  2021  \n",
       "0  81.995122  80.795122   NaN  \n",
       "1  79.282000  76.989000   NaN  \n",
       "2  81.895122  81.192683   NaN  \n",
       "3  74.226829  74.226829   NaN  \n",
       "4  75.112195  73.607317   NaN  \n",
       "\n",
       "[5 rows x 66 columns]"
      ]
     },
     "metadata": {},
     "output_type": "display_data"
    }
   ],
   "source": [
    "paises = pd.read_csv('/home/rafael/git/advanced_visualization/primeiros_testes/dados_paises.csv')\n",
    "display(paises.head())"
   ]
  },
  {
   "cell_type": "code",
   "execution_count": 3,
   "metadata": {},
   "outputs": [
    {
     "name": "stderr",
     "output_type": "stream",
     "text": [
      "/home/rafael/.local/lib/python3.10/site-packages/pandas/core/arraylike.py:405: RuntimeWarning: invalid value encountered in log10\n",
      "  result = getattr(ufunc, method)(*inputs, **kwargs)\n"
     ]
    },
    {
     "data": {
      "application/vnd.plotly.v1+json": {
       "config": {
        "plotlyServerURL": "https://plot.ly"
       },
       "data": [
        {
         "colorbar": {
          "dtick": [
           200,
           400,
           600,
           800
          ],
          "title": {
           "text": "Inflação"
          },
          "xanchor": "center"
         },
         "colorscale": [
          [
           0,
           "rgb(255,245,240)"
          ],
          [
           0.125,
           "rgb(254,224,210)"
          ],
          [
           0.25,
           "rgb(252,187,161)"
          ],
          [
           0.375,
           "rgb(252,146,114)"
          ],
          [
           0.5,
           "rgb(251,106,74)"
          ],
          [
           0.625,
           "rgb(239,59,44)"
          ],
          [
           0.75,
           "rgb(203,24,29)"
          ],
          [
           0.875,
           "rgb(165,15,21)"
          ],
          [
           1,
           "rgb(103,0,13)"
          ]
         ],
         "hoverinfo": "text",
         "locations": [
          "BEL",
          "ALB",
          "AUT",
          "BLR",
          "BGR",
          "HRV",
          "CYP",
          "DNK",
          "EST",
          "CZE",
          "FIN",
          "DEU",
          "GRC",
          "FRA",
          "ISL",
          "HUN",
          "IRL",
          "ITA",
          "LVA",
          "LTU",
          "MLT",
          "MDA",
          "MNE",
          "NLD",
          "NOR",
          "PRT",
          "POL",
          "ROU",
          "RUS",
          "AFG",
          "DZA",
          "ASM",
          "AND",
          "AGO",
          "ATG",
          "ARG",
          "ARM",
          "ABW",
          "AUS",
          "AZE",
          null,
          "BHR",
          "BGD",
          "BRB",
          "BLZ",
          "BEN",
          "BMU",
          "BTN",
          "BOL",
          "BIH",
          "BWA",
          "BRA",
          "VGB",
          "BRN",
          "BFA",
          "BDI",
          "CPV",
          "KHM",
          "CMR",
          "CAN",
          "CYM",
          "CAF",
          "TCD",
          "CHI",
          "CHL",
          "CHN",
          "COL",
          "COM",
          null,
          null,
          "CRI",
          "CIV",
          "CUB",
          "CUW",
          "DJI",
          "DMA",
          "DOM",
          "ECU",
          null,
          "SLV",
          "GNQ",
          "ERI",
          "SWZ",
          "ETH",
          "FRO",
          "FJI",
          "PYF",
          "GAB",
          null,
          "GEO",
          "GHA",
          "GIB",
          "GRL",
          "GRD",
          "GUM",
          "GTM",
          "GIN",
          "GNB",
          "GUY",
          "HTI",
          "HND",
          null,
          "IND",
          "IDN",
          null,
          "IRQ",
          "IMN",
          "ISR",
          "JAM",
          "JPN",
          "JOR",
          "KAZ",
          "KEN",
          "KIR",
          null,
          null,
          "XKX",
          "KWT",
          "KGZ",
          "LAO",
          "LBN",
          "LSO",
          "LBR",
          "LBY",
          "LIE",
          "LUX",
          null,
          "MDG",
          "MWI",
          "MYS",
          "MDV",
          "MLI",
          "MHL",
          "MRT",
          "MUS",
          "MEX",
          null,
          "MCO",
          "MNG",
          "MAR",
          "MOZ",
          "MMR",
          "NAM",
          "NRU",
          "NPL",
          "NCL",
          "NZL",
          "NIC",
          "NER",
          "NGA",
          "MKD",
          "MNP",
          "OMN",
          "PAK",
          "PLW",
          "PAN",
          "PNG",
          "PRY",
          "PER",
          "PHL",
          "PRI",
          "QAT",
          "RWA",
          "WSM",
          "SMR",
          "STP",
          "SAU",
          "SEN",
          "SRB",
          "SYC",
          "SLE",
          "SGP",
          "SXM",
          "SVK",
          "SVN",
          "SLB",
          "SOM",
          "ZAF",
          "SSD",
          "ESP",
          "LKA",
          "KNA",
          "LCA",
          "MAF",
          "VCT",
          "SDN",
          "SUR",
          "SWE",
          "CHE",
          "SYR",
          "TJK",
          "TZA",
          "THA",
          "TLS",
          "TGO",
          "TON",
          "TTO",
          "TUN",
          "TUR",
          "TKM",
          "TCA",
          "TUV",
          "UGA",
          "UKR",
          "ARE",
          "GBR",
          "USA",
          "URY",
          "UZB",
          "VUT",
          null,
          "VNM",
          "VIR",
          "PSE",
          null,
          "ZMB",
          "ZWE",
          "BEL",
          "ALB",
          "AUT",
          "BLR",
          "BGR",
          "HRV",
          "CYP",
          "DNK",
          "EST",
          "CZE",
          "FIN",
          "DEU",
          "GRC",
          "FRA",
          "ISL",
          "HUN",
          "IRL",
          "ITA",
          "LVA",
          "LTU",
          "MLT",
          "MDA",
          "MNE",
          "NLD",
          "NOR",
          "PRT",
          "POL",
          "ROU",
          "RUS",
          "AFG",
          "DZA",
          "ASM",
          "AND",
          "AGO",
          "ATG",
          "ARG",
          "ARM",
          "ABW",
          "AUS",
          "AZE",
          null,
          "BHR",
          "BGD",
          "BRB",
          "BLZ",
          "BEN",
          "BMU",
          "BTN",
          "BOL",
          "BIH",
          "BWA",
          "BRA",
          "VGB",
          "BRN",
          "BFA",
          "BDI",
          "CPV",
          "KHM",
          "CMR",
          "CAN",
          "CYM",
          "CAF",
          "TCD",
          "CHI",
          "CHL",
          "CHN",
          "COL",
          "COM",
          null,
          null,
          "CRI",
          "CIV",
          "CUB",
          "CUW",
          "DJI",
          "DMA",
          "DOM",
          "ECU",
          null,
          "SLV",
          "GNQ",
          "ERI",
          "SWZ",
          "ETH",
          "FRO",
          "FJI",
          "PYF",
          "GAB",
          null,
          "GEO",
          "GHA",
          "GIB",
          "GRL",
          "GRD",
          "GUM",
          "GTM",
          "GIN",
          "GNB",
          "GUY",
          "HTI",
          "HND",
          null,
          "IND",
          "IDN",
          null,
          "IRQ",
          "IMN",
          "ISR",
          "JAM",
          "JPN",
          "JOR",
          "KAZ",
          "KEN",
          "KIR",
          null,
          null,
          "XKX",
          "KWT",
          "KGZ",
          "LAO",
          "LBN",
          "LSO",
          "LBR",
          "LBY",
          "LIE",
          "LUX",
          null,
          "MDG",
          "MWI",
          "MYS",
          "MDV",
          "MLI",
          "MHL",
          "MRT",
          "MUS",
          "MEX",
          null,
          "MCO",
          "MNG",
          "MAR",
          "MOZ",
          "MMR",
          "NAM",
          "NRU",
          "NPL",
          "NCL",
          "NZL",
          "NIC",
          "NER",
          "NGA",
          "MKD",
          "MNP",
          "OMN",
          "PAK",
          "PLW",
          "PAN",
          "PNG",
          "PRY",
          "PER",
          "PHL",
          "PRI",
          "QAT",
          "RWA",
          "WSM",
          "SMR",
          "STP",
          "SAU",
          "SEN",
          "SRB",
          "SYC",
          "SLE",
          "SGP",
          "SXM",
          "SVK",
          "SVN",
          "SLB",
          "SOM",
          "ZAF",
          "SSD",
          "ESP",
          "LKA",
          "KNA",
          "LCA",
          "MAF",
          "VCT",
          "SDN",
          "SUR",
          "SWE",
          "CHE",
          "SYR",
          "TJK",
          "TZA",
          "THA",
          "TLS",
          "TGO",
          "TON",
          "TTO",
          "TUN",
          "TUR",
          "TKM",
          "TCA",
          "TUV",
          "UGA",
          "UKR",
          "ARE",
          "GBR",
          "USA",
          "URY",
          "UZB",
          "VUT",
          null,
          "VNM",
          "VIR",
          "PSE",
          null,
          "ZMB",
          "ZWE",
          "BEL",
          "ALB",
          "AUT",
          "BLR",
          "BGR",
          "HRV",
          "CYP",
          "DNK",
          "EST",
          "CZE",
          "FIN",
          "DEU",
          "GRC",
          "FRA",
          "ISL",
          "HUN",
          "IRL",
          "ITA",
          "LVA",
          "LTU",
          "MLT",
          "MDA",
          "MNE",
          "NLD",
          "NOR",
          "PRT",
          "POL",
          "ROU",
          "RUS",
          "AFG",
          "DZA",
          "ASM",
          "AND",
          "AGO",
          "ATG",
          "ARG",
          "ARM",
          "ABW",
          "AUS",
          "AZE",
          null,
          "BHR",
          "BGD",
          "BRB",
          "BLZ",
          "BEN",
          "BMU",
          "BTN",
          "BOL",
          "BIH",
          "BWA",
          "BRA",
          "VGB",
          "BRN",
          "BFA",
          "BDI",
          "CPV",
          "KHM",
          "CMR",
          "CAN",
          "CYM",
          "CAF",
          "TCD",
          "CHI",
          "CHL",
          "CHN",
          "COL",
          "COM",
          null,
          null,
          "CRI",
          "CIV",
          "CUB",
          "CUW",
          "DJI",
          "DMA",
          "DOM",
          "ECU",
          null,
          "SLV",
          "GNQ",
          "ERI",
          "SWZ",
          "ETH",
          "FRO",
          "FJI",
          "PYF",
          "GAB",
          null,
          "GEO",
          "GHA",
          "GIB",
          "GRL",
          "GRD",
          "GUM",
          "GTM",
          "GIN",
          "GNB",
          "GUY",
          "HTI",
          "HND",
          null,
          "IND",
          "IDN",
          null,
          "IRQ",
          "IMN",
          "ISR",
          "JAM",
          "JPN",
          "JOR",
          "KAZ",
          "KEN",
          "KIR",
          null,
          null,
          "XKX",
          "KWT",
          "KGZ",
          "LAO",
          "LBN",
          "LSO",
          "LBR",
          "LBY",
          "LIE",
          "LUX",
          null,
          "MDG",
          "MWI",
          "MYS",
          "MDV",
          "MLI",
          "MHL",
          "MRT",
          "MUS",
          "MEX",
          null,
          "MCO",
          "MNG",
          "MAR",
          "MOZ",
          "MMR",
          "NAM",
          "NRU",
          "NPL",
          "NCL",
          "NZL",
          "NIC",
          "NER",
          "NGA",
          "MKD",
          "MNP",
          "OMN",
          "PAK",
          "PLW",
          "PAN",
          "PNG",
          "PRY",
          "PER",
          "PHL",
          "PRI",
          "QAT",
          "RWA",
          "WSM",
          "SMR",
          "STP",
          "SAU",
          "SEN",
          "SRB",
          "SYC",
          "SLE",
          "SGP",
          "SXM",
          "SVK",
          "SVN",
          "SLB",
          "SOM",
          "ZAF",
          "SSD",
          "ESP",
          "LKA",
          "KNA",
          "LCA",
          "MAF",
          "VCT",
          "SDN",
          "SUR",
          "SWE",
          "CHE",
          "SYR",
          "TJK",
          "TZA",
          "THA",
          "TLS",
          "TGO",
          "TON",
          "TTO",
          "TUN",
          "TUR",
          "TKM",
          "TCA",
          "TUV",
          "UGA",
          "UKR",
          "ARE",
          "GBR",
          "USA",
          "URY",
          "UZB",
          "VUT",
          null,
          "VNM",
          "VIR",
          "PSE",
          null,
          "ZMB",
          "ZWE",
          "BEL",
          "ALB",
          "AUT",
          "BLR",
          "BGR",
          "HRV",
          "CYP",
          "DNK",
          "EST",
          "CZE",
          "FIN",
          "DEU",
          "GRC",
          "FRA",
          "ISL",
          "HUN",
          "IRL",
          "ITA",
          "LVA",
          "LTU",
          "MLT",
          "MDA",
          "MNE",
          "NLD",
          "NOR",
          "PRT",
          "POL",
          "ROU",
          "RUS",
          "AFG",
          "DZA",
          "ASM",
          "AND",
          "AGO",
          "ATG",
          "ARG",
          "ARM",
          "ABW",
          "AUS",
          "AZE",
          null,
          "BHR",
          "BGD",
          "BRB",
          "BLZ",
          "BEN",
          "BMU",
          "BTN",
          "BOL",
          "BIH",
          "BWA",
          "BRA",
          "VGB",
          "BRN",
          "BFA",
          "BDI",
          "CPV",
          "KHM",
          "CMR",
          "CAN",
          "CYM",
          "CAF",
          "TCD",
          "CHI",
          "CHL",
          "CHN",
          "COL",
          "COM",
          null,
          null,
          "CRI",
          "CIV",
          "CUB",
          "CUW",
          "DJI",
          "DMA",
          "DOM",
          "ECU",
          null,
          "SLV",
          "GNQ",
          "ERI",
          "SWZ",
          "ETH",
          "FRO",
          "FJI",
          "PYF",
          "GAB",
          null,
          "GEO",
          "GHA",
          "GIB",
          "GRL",
          "GRD",
          "GUM",
          "GTM",
          "GIN",
          "GNB",
          "GUY",
          "HTI",
          "HND",
          null,
          "IND",
          "IDN",
          null,
          "IRQ",
          "IMN",
          "ISR",
          "JAM",
          "JPN",
          "JOR",
          "KAZ",
          "KEN",
          "KIR",
          null,
          null,
          "XKX",
          "KWT",
          "KGZ",
          "LAO",
          "LBN",
          "LSO",
          "LBR",
          "LBY",
          "LIE",
          "LUX",
          null,
          "MDG",
          "MWI",
          "MYS",
          "MDV",
          "MLI",
          "MHL",
          "MRT",
          "MUS",
          "MEX",
          null,
          "MCO",
          "MNG",
          "MAR",
          "MOZ",
          "MMR",
          "NAM",
          "NRU",
          "NPL",
          "NCL",
          "NZL",
          "NIC",
          "NER",
          "NGA",
          "MKD",
          "MNP",
          "OMN",
          "PAK",
          "PLW",
          "PAN",
          "PNG",
          "PRY",
          "PER",
          "PHL",
          "PRI",
          "QAT",
          "RWA",
          "WSM",
          "SMR",
          "STP",
          "SAU",
          "SEN",
          "SRB",
          "SYC",
          "SLE",
          "SGP",
          "SXM",
          "SVK",
          "SVN",
          "SLB",
          "SOM",
          "ZAF",
          "SSD",
          "ESP",
          "LKA",
          "KNA",
          "LCA",
          "MAF",
          "VCT",
          "SDN",
          "SUR",
          "SWE",
          "CHE",
          "SYR",
          "TJK",
          "TZA",
          "THA",
          "TLS",
          "TGO",
          "TON",
          "TTO",
          "TUN",
          "TUR",
          "TKM",
          "TCA",
          "TUV",
          "UGA",
          "UKR",
          "ARE",
          "GBR",
          "USA",
          "URY",
          "UZB",
          "VUT",
          null,
          "VNM",
          "VIR",
          "PSE",
          null,
          "ZMB",
          "ZWE"
         ],
         "text": [
          1.46796699090272,
          7.79321853789215,
          2.24336631500904,
          709.346032118606,
          62.0548336837993,
          3.95010395010403,
          2.61581787956337,
          2.0836084238285,
          28.7766137208514,
          8.99052361478446,
          0.791239406938448,
          1.70616052419454,
          8.93451415961518,
          1.79648142095595,
          1.65123150116651,
          28.3054683706654,
          2.52486728005296,
          5.23542258044299,
          24.975935531675,
          39.647629032829,
          4.42664550286656,
          29.8656104095718,
          null,
          1.92322003453521,
          2.46036778693723,
          4.22281614099486,
          27.951388563304,
          32.2424847257597,
          197.414268084251,
          null,
          29.7796264864999,
          null,
          null,
          2666.45059288538,
          null,
          null,
          175.951325534583,
          3.36139107320895,
          4.62776659959758,
          411.759641777268,
          2.70403475064702,
          10.2978117947205,
          1.87886279357232,
          2.8896158437215,
          14.4625482180894,
          null,
          9.48754836789363,
          10.1932067630746,
          null,
          10.512546081579,
          66.0070335542481,
          null,
          5.96664139499613,
          7.45884497828323,
          19.2632536382538,
          8.35152497972926,
          -0.798944337811886,
          9.06969071921507,
          2.14876033057852,
          null,
          19.1894039735098,
          9.23032599768658,
          null,
          8.23263034116112,
          16.7912251650917,
          20.8917930194849,
          null,
          23.1864981102567,
          14.2950690851945,
          null,
          null,
          null,
          1.31753745774971,
          12.5359594558963,
          22.8861330326945,
          10.0296564501018,
          19.8724349483472,
          null,
          12.2885912601426,
          10.0221733553239,
          null,
          2.16564721441536,
          null,
          9.64653104079614,
          162.717152150377,
          59.4615536991446,
          null,
          null,
          1.86882475298978,
          null,
          8.41141312270567,
          null,
          45.3653083621856,
          12.2105263157894,
          27.6081851727601,
          29.4645292281585,
          10.2248861637545,
          9.42032321644617,
          387.310847766638,
          null,
          9.9402588781945,
          19.9087488364168,
          -0.127899045020497,
          2.35312451301272,
          176.15529894237,
          1.55432816055007,
          null,
          null,
          2.68672756582486,
          null,
          19.5939189878584,
          null,
          9.27083333333323,
          null,
          7.2379849449913,
          null,
          1.86769424969108,
          49.0802100590784,
          83.3257747543458,
          3.45057509584896,
          5.48886133171505,
          13.4417696811973,
          null,
          6.5437906852417,
          6.02933188484532,
          34.9992712889592,
          null,
          0.0435161009571708,
          6.12358164775524,
          null,
          25.1947123972847,
          null,
          null,
          7.62296950698166,
          null,
          3.75494413677554,
          null,
          10.5632886691814,
          72.8355022972637,
          16.3735889723568,
          null,
          null,
          12.3435785170513,
          null,
          0.994206982933863,
          17.280932681459,
          13.4254143646407,
          11.1287029707088,
          6.83199610989531,
          null,
          2.9565217391303,
          null,
          -2.90352865746141,
          null,
          null,
          4.86843103056034,
          7.86400784570113,
          82.6605151864663,
          -0.243902439024446,
          null,
          1.72053384788524,
          null,
          9.84109579837757,
          13.4637296178669,
          9.6292197011623,
          null,
          8.6804442262446,
          null,
          4.67380337624704,
          7.6748487344981,
          2.95680025092623,
          5.62965921512373,
          null,
          1.73837289880567,
          68.3751929485423,
          235.558815073605,
          2.45514857818396,
          1.79982776867147,
          7.97995780590684,
          null,
          27.4277854195323,
          5.81818181818193,
          null,
          16.4335034524163,
          1.4600063035097,
          5.18220539517273,
          6.24415028747145,
          89.1133172248499,
          null,
          null,
          null,
          6.55014018970372,
          376.746174768209,
          null,
          2.69749518304432,
          2.80541968853655,
          42.2483197983755,
          null,
          2.22970130416486,
          null,
          null,
          null,
          34.9295874166667,
          null
         ],
         "type": "choropleth",
         "z": [
          0.16671629002829563,
          0.8917168549213208,
          0.3509001944914481,
          2.850858143757209,
          1.7927756159788302,
          0.596608524579006,
          0.41760750392823354,
          0.31881610457503795,
          1.4590396871379832,
          0.9537849861035674,
          -0.10169209124185423,
          0.23201988937091744,
          0.9510709414488348,
          0.25442273013068606,
          0.21780796522587895,
          1.4518703455520925,
          0.4022385543138778,
          0.718951741783287,
          1.397521764711218,
          1.598217221193421,
          0.6460747439546011,
          1.4751713955203791,
          null,
          0.28402897447134023,
          0.39100003226530566,
          0.6256021729026146,
          1.446403387549865,
          1.5084285027703228,
          2.295378538031312,
          null,
          1.4739192462748107,
          null,
          null,
          3.425933540977441,
          null,
          null,
          2.245392542954027,
          0.5265190423880761,
          0.6653714472842602,
          2.614643777414681,
          0.43201226859994823,
          1.012744950293579,
          0.27389506633250216,
          0.46084010987024604,
          1.1602448198986304,
          null,
          0.9771540029594799,
          1.0083108337039688,
          null,
          1.0217079125331137,
          1.8195902154061874,
          null,
          0.7757299368126935,
          0.8726715810390737,
          1.2847296430065474,
          0.9217657844430027,
          null,
          0.957592477663359,
          0.3321879776543694,
          null,
          1.2830614856768108,
          0.9652170397578962,
          null,
          0.915538615302431,
          1.2250823854189707,
          1.3199757145160544,
          null,
          1.3652351614782572,
          1.1551862585569843,
          null,
          null,
          null,
          0.11976297110489173,
          1.098157578857073,
          1.359572418081487,
          1.0012860572098146,
          1.2982510840117794,
          null,
          1.0895020990773903,
          1.000961910540707,
          null,
          0.3355877111483642,
          null,
          0.9843711661219703,
          2.2114333346924866,
          1.7742362529037214,
          null,
          null,
          0.27156857779514687,
          null,
          0.9248689636740699,
          null,
          1.6567238672587181,
          1.086734383938068,
          1.4410378591796278,
          1.469299506512236,
          1.0096584815959109,
          0.9740658039299155,
          2.5880596608363717,
          null,
          0.9973976950519735,
          1.2990439676861785,
          null,
          0.3716449080020545,
          2.2458957117626093,
          0.19154271541102594,
          null,
          null,
          0.4292236312052574,
          null,
          1.2921213081020286,
          null,
          0.9671187736053395,
          null,
          0.8596176754405968,
          null,
          0.2713057816691121,
          1.6909064128019797,
          1.9207793603760477,
          0.537891483519419,
          0.7394822590870103,
          1.1284564496838618,
          null,
          0.815829399205693,
          0.7802691902826518,
          1.544059002108032,
          null,
          -1.3613500243540968,
          0.7870055128104244,
          null,
          1.4013094051611212,
          null,
          null,
          0.8821241825306131,
          null,
          0.5746034802827724,
          null,
          1.0237991481718942,
          1.862343119607934,
          1.2141438840578231,
          null,
          null,
          1.091441083919968,
          null,
          -0.002523190866106247,
          1.2375671783905582,
          1.1279276987291218,
          1.046444551083306,
          0.8345476103958956,
          null,
          0.4707810766886237,
          null,
          null,
          null,
          null,
          0.6873890218807363,
          0.8956439381077781,
          1.9172981077197302,
          null,
          null,
          0.23566322087161767,
          null,
          0.9930434594772939,
          1.1291653814401763,
          0.9835910957216748,
          null,
          0.9385419509910246,
          null,
          0.6696704379648301,
          0.8850698246156526,
          0.4708219863960301,
          0.7504821061354094,
          null,
          0.24014294272405562,
          1.8348985648825327,
          2.3720993610310193,
          0.3900777794459142,
          0.2552309480508829,
          0.9020005950211212,
          null,
          1.4381907431165988,
          0.7647872888256705,
          null,
          1.2157301603829176,
          0.16435473083482724,
          0.7145146221238229,
          0.7954733473426667,
          1.9499426104913127,
          null,
          null,
          null,
          0.8162505951006698,
          2.576048851469768,
          null,
          0.43096067782978087,
          0.4479978405587604,
          1.6258094418820703,
          null,
          0.34824668787259827,
          null,
          null,
          null,
          1.5431934558431086,
          null
         ]
        }
       ],
       "layout": {
        "geo": {
         "countrycolor": "Black",
         "resolution": 50,
         "scope": "europe",
         "showcountries": true,
         "visible": false
        },
        "template": {
         "data": {
          "bar": [
           {
            "error_x": {
             "color": "#2a3f5f"
            },
            "error_y": {
             "color": "#2a3f5f"
            },
            "marker": {
             "line": {
              "color": "#E5ECF6",
              "width": 0.5
             },
             "pattern": {
              "fillmode": "overlay",
              "size": 10,
              "solidity": 0.2
             }
            },
            "type": "bar"
           }
          ],
          "barpolar": [
           {
            "marker": {
             "line": {
              "color": "#E5ECF6",
              "width": 0.5
             },
             "pattern": {
              "fillmode": "overlay",
              "size": 10,
              "solidity": 0.2
             }
            },
            "type": "barpolar"
           }
          ],
          "carpet": [
           {
            "aaxis": {
             "endlinecolor": "#2a3f5f",
             "gridcolor": "white",
             "linecolor": "white",
             "minorgridcolor": "white",
             "startlinecolor": "#2a3f5f"
            },
            "baxis": {
             "endlinecolor": "#2a3f5f",
             "gridcolor": "white",
             "linecolor": "white",
             "minorgridcolor": "white",
             "startlinecolor": "#2a3f5f"
            },
            "type": "carpet"
           }
          ],
          "choropleth": [
           {
            "colorbar": {
             "outlinewidth": 0,
             "ticks": ""
            },
            "type": "choropleth"
           }
          ],
          "contour": [
           {
            "colorbar": {
             "outlinewidth": 0,
             "ticks": ""
            },
            "colorscale": [
             [
              0,
              "#0d0887"
             ],
             [
              0.1111111111111111,
              "#46039f"
             ],
             [
              0.2222222222222222,
              "#7201a8"
             ],
             [
              0.3333333333333333,
              "#9c179e"
             ],
             [
              0.4444444444444444,
              "#bd3786"
             ],
             [
              0.5555555555555556,
              "#d8576b"
             ],
             [
              0.6666666666666666,
              "#ed7953"
             ],
             [
              0.7777777777777778,
              "#fb9f3a"
             ],
             [
              0.8888888888888888,
              "#fdca26"
             ],
             [
              1,
              "#f0f921"
             ]
            ],
            "type": "contour"
           }
          ],
          "contourcarpet": [
           {
            "colorbar": {
             "outlinewidth": 0,
             "ticks": ""
            },
            "type": "contourcarpet"
           }
          ],
          "heatmap": [
           {
            "colorbar": {
             "outlinewidth": 0,
             "ticks": ""
            },
            "colorscale": [
             [
              0,
              "#0d0887"
             ],
             [
              0.1111111111111111,
              "#46039f"
             ],
             [
              0.2222222222222222,
              "#7201a8"
             ],
             [
              0.3333333333333333,
              "#9c179e"
             ],
             [
              0.4444444444444444,
              "#bd3786"
             ],
             [
              0.5555555555555556,
              "#d8576b"
             ],
             [
              0.6666666666666666,
              "#ed7953"
             ],
             [
              0.7777777777777778,
              "#fb9f3a"
             ],
             [
              0.8888888888888888,
              "#fdca26"
             ],
             [
              1,
              "#f0f921"
             ]
            ],
            "type": "heatmap"
           }
          ],
          "heatmapgl": [
           {
            "colorbar": {
             "outlinewidth": 0,
             "ticks": ""
            },
            "colorscale": [
             [
              0,
              "#0d0887"
             ],
             [
              0.1111111111111111,
              "#46039f"
             ],
             [
              0.2222222222222222,
              "#7201a8"
             ],
             [
              0.3333333333333333,
              "#9c179e"
             ],
             [
              0.4444444444444444,
              "#bd3786"
             ],
             [
              0.5555555555555556,
              "#d8576b"
             ],
             [
              0.6666666666666666,
              "#ed7953"
             ],
             [
              0.7777777777777778,
              "#fb9f3a"
             ],
             [
              0.8888888888888888,
              "#fdca26"
             ],
             [
              1,
              "#f0f921"
             ]
            ],
            "type": "heatmapgl"
           }
          ],
          "histogram": [
           {
            "marker": {
             "pattern": {
              "fillmode": "overlay",
              "size": 10,
              "solidity": 0.2
             }
            },
            "type": "histogram"
           }
          ],
          "histogram2d": [
           {
            "colorbar": {
             "outlinewidth": 0,
             "ticks": ""
            },
            "colorscale": [
             [
              0,
              "#0d0887"
             ],
             [
              0.1111111111111111,
              "#46039f"
             ],
             [
              0.2222222222222222,
              "#7201a8"
             ],
             [
              0.3333333333333333,
              "#9c179e"
             ],
             [
              0.4444444444444444,
              "#bd3786"
             ],
             [
              0.5555555555555556,
              "#d8576b"
             ],
             [
              0.6666666666666666,
              "#ed7953"
             ],
             [
              0.7777777777777778,
              "#fb9f3a"
             ],
             [
              0.8888888888888888,
              "#fdca26"
             ],
             [
              1,
              "#f0f921"
             ]
            ],
            "type": "histogram2d"
           }
          ],
          "histogram2dcontour": [
           {
            "colorbar": {
             "outlinewidth": 0,
             "ticks": ""
            },
            "colorscale": [
             [
              0,
              "#0d0887"
             ],
             [
              0.1111111111111111,
              "#46039f"
             ],
             [
              0.2222222222222222,
              "#7201a8"
             ],
             [
              0.3333333333333333,
              "#9c179e"
             ],
             [
              0.4444444444444444,
              "#bd3786"
             ],
             [
              0.5555555555555556,
              "#d8576b"
             ],
             [
              0.6666666666666666,
              "#ed7953"
             ],
             [
              0.7777777777777778,
              "#fb9f3a"
             ],
             [
              0.8888888888888888,
              "#fdca26"
             ],
             [
              1,
              "#f0f921"
             ]
            ],
            "type": "histogram2dcontour"
           }
          ],
          "mesh3d": [
           {
            "colorbar": {
             "outlinewidth": 0,
             "ticks": ""
            },
            "type": "mesh3d"
           }
          ],
          "parcoords": [
           {
            "line": {
             "colorbar": {
              "outlinewidth": 0,
              "ticks": ""
             }
            },
            "type": "parcoords"
           }
          ],
          "pie": [
           {
            "automargin": true,
            "type": "pie"
           }
          ],
          "scatter": [
           {
            "fillpattern": {
             "fillmode": "overlay",
             "size": 10,
             "solidity": 0.2
            },
            "type": "scatter"
           }
          ],
          "scatter3d": [
           {
            "line": {
             "colorbar": {
              "outlinewidth": 0,
              "ticks": ""
             }
            },
            "marker": {
             "colorbar": {
              "outlinewidth": 0,
              "ticks": ""
             }
            },
            "type": "scatter3d"
           }
          ],
          "scattercarpet": [
           {
            "marker": {
             "colorbar": {
              "outlinewidth": 0,
              "ticks": ""
             }
            },
            "type": "scattercarpet"
           }
          ],
          "scattergeo": [
           {
            "marker": {
             "colorbar": {
              "outlinewidth": 0,
              "ticks": ""
             }
            },
            "type": "scattergeo"
           }
          ],
          "scattergl": [
           {
            "marker": {
             "colorbar": {
              "outlinewidth": 0,
              "ticks": ""
             }
            },
            "type": "scattergl"
           }
          ],
          "scattermapbox": [
           {
            "marker": {
             "colorbar": {
              "outlinewidth": 0,
              "ticks": ""
             }
            },
            "type": "scattermapbox"
           }
          ],
          "scatterpolar": [
           {
            "marker": {
             "colorbar": {
              "outlinewidth": 0,
              "ticks": ""
             }
            },
            "type": "scatterpolar"
           }
          ],
          "scatterpolargl": [
           {
            "marker": {
             "colorbar": {
              "outlinewidth": 0,
              "ticks": ""
             }
            },
            "type": "scatterpolargl"
           }
          ],
          "scatterternary": [
           {
            "marker": {
             "colorbar": {
              "outlinewidth": 0,
              "ticks": ""
             }
            },
            "type": "scatterternary"
           }
          ],
          "surface": [
           {
            "colorbar": {
             "outlinewidth": 0,
             "ticks": ""
            },
            "colorscale": [
             [
              0,
              "#0d0887"
             ],
             [
              0.1111111111111111,
              "#46039f"
             ],
             [
              0.2222222222222222,
              "#7201a8"
             ],
             [
              0.3333333333333333,
              "#9c179e"
             ],
             [
              0.4444444444444444,
              "#bd3786"
             ],
             [
              0.5555555555555556,
              "#d8576b"
             ],
             [
              0.6666666666666666,
              "#ed7953"
             ],
             [
              0.7777777777777778,
              "#fb9f3a"
             ],
             [
              0.8888888888888888,
              "#fdca26"
             ],
             [
              1,
              "#f0f921"
             ]
            ],
            "type": "surface"
           }
          ],
          "table": [
           {
            "cells": {
             "fill": {
              "color": "#EBF0F8"
             },
             "line": {
              "color": "white"
             }
            },
            "header": {
             "fill": {
              "color": "#C8D4E3"
             },
             "line": {
              "color": "white"
             }
            },
            "type": "table"
           }
          ]
         },
         "layout": {
          "annotationdefaults": {
           "arrowcolor": "#2a3f5f",
           "arrowhead": 0,
           "arrowwidth": 1
          },
          "autotypenumbers": "strict",
          "coloraxis": {
           "colorbar": {
            "outlinewidth": 0,
            "ticks": ""
           }
          },
          "colorscale": {
           "diverging": [
            [
             0,
             "#8e0152"
            ],
            [
             0.1,
             "#c51b7d"
            ],
            [
             0.2,
             "#de77ae"
            ],
            [
             0.3,
             "#f1b6da"
            ],
            [
             0.4,
             "#fde0ef"
            ],
            [
             0.5,
             "#f7f7f7"
            ],
            [
             0.6,
             "#e6f5d0"
            ],
            [
             0.7,
             "#b8e186"
            ],
            [
             0.8,
             "#7fbc41"
            ],
            [
             0.9,
             "#4d9221"
            ],
            [
             1,
             "#276419"
            ]
           ],
           "sequential": [
            [
             0,
             "#0d0887"
            ],
            [
             0.1111111111111111,
             "#46039f"
            ],
            [
             0.2222222222222222,
             "#7201a8"
            ],
            [
             0.3333333333333333,
             "#9c179e"
            ],
            [
             0.4444444444444444,
             "#bd3786"
            ],
            [
             0.5555555555555556,
             "#d8576b"
            ],
            [
             0.6666666666666666,
             "#ed7953"
            ],
            [
             0.7777777777777778,
             "#fb9f3a"
            ],
            [
             0.8888888888888888,
             "#fdca26"
            ],
            [
             1,
             "#f0f921"
            ]
           ],
           "sequentialminus": [
            [
             0,
             "#0d0887"
            ],
            [
             0.1111111111111111,
             "#46039f"
            ],
            [
             0.2222222222222222,
             "#7201a8"
            ],
            [
             0.3333333333333333,
             "#9c179e"
            ],
            [
             0.4444444444444444,
             "#bd3786"
            ],
            [
             0.5555555555555556,
             "#d8576b"
            ],
            [
             0.6666666666666666,
             "#ed7953"
            ],
            [
             0.7777777777777778,
             "#fb9f3a"
            ],
            [
             0.8888888888888888,
             "#fdca26"
            ],
            [
             1,
             "#f0f921"
            ]
           ]
          },
          "colorway": [
           "#636efa",
           "#EF553B",
           "#00cc96",
           "#ab63fa",
           "#FFA15A",
           "#19d3f3",
           "#FF6692",
           "#B6E880",
           "#FF97FF",
           "#FECB52"
          ],
          "font": {
           "color": "#2a3f5f"
          },
          "geo": {
           "bgcolor": "white",
           "lakecolor": "white",
           "landcolor": "#E5ECF6",
           "showlakes": true,
           "showland": true,
           "subunitcolor": "white"
          },
          "hoverlabel": {
           "align": "left"
          },
          "hovermode": "closest",
          "mapbox": {
           "style": "light"
          },
          "paper_bgcolor": "white",
          "plot_bgcolor": "#E5ECF6",
          "polar": {
           "angularaxis": {
            "gridcolor": "white",
            "linecolor": "white",
            "ticks": ""
           },
           "bgcolor": "#E5ECF6",
           "radialaxis": {
            "gridcolor": "white",
            "linecolor": "white",
            "ticks": ""
           }
          },
          "scene": {
           "xaxis": {
            "backgroundcolor": "#E5ECF6",
            "gridcolor": "white",
            "gridwidth": 2,
            "linecolor": "white",
            "showbackground": true,
            "ticks": "",
            "zerolinecolor": "white"
           },
           "yaxis": {
            "backgroundcolor": "#E5ECF6",
            "gridcolor": "white",
            "gridwidth": 2,
            "linecolor": "white",
            "showbackground": true,
            "ticks": "",
            "zerolinecolor": "white"
           },
           "zaxis": {
            "backgroundcolor": "#E5ECF6",
            "gridcolor": "white",
            "gridwidth": 2,
            "linecolor": "white",
            "showbackground": true,
            "ticks": "",
            "zerolinecolor": "white"
           }
          },
          "shapedefaults": {
           "line": {
            "color": "#2a3f5f"
           }
          },
          "ternary": {
           "aaxis": {
            "gridcolor": "white",
            "linecolor": "white",
            "ticks": ""
           },
           "baxis": {
            "gridcolor": "white",
            "linecolor": "white",
            "ticks": ""
           },
           "bgcolor": "#E5ECF6",
           "caxis": {
            "gridcolor": "white",
            "linecolor": "white",
            "ticks": ""
           }
          },
          "title": {
           "x": 0.05
          },
          "xaxis": {
           "automargin": true,
           "gridcolor": "white",
           "linecolor": "white",
           "ticks": "",
           "title": {
            "standoff": 15
           },
           "zerolinecolor": "white",
           "zerolinewidth": 2
          },
          "yaxis": {
           "automargin": true,
           "gridcolor": "white",
           "linecolor": "white",
           "ticks": "",
           "title": {
            "standoff": 15
           },
           "zerolinecolor": "white",
           "zerolinewidth": 2
          }
         }
        },
        "title": {
         "text": "Inflação na Europa em 1995"
        }
       }
      }
     },
     "metadata": {},
     "output_type": "display_data"
    }
   ],
   "source": [
    "fig = go.Figure(data=go.Choropleth(locations=paises['Country Code'],\n",
    "                                    z = np.log10(paises['1995'].loc[paises['Series Name']=='inflation']),\n",
    "                                    hoverinfo = 'text',\n",
    "                                    text= paises['1995'].loc[paises['Series Name']=='inflation'],\n",
    "                                    colorscale='Reds',\n",
    "                                    colorbar=dict(\n",
    "                                        title='Inflação',\n",
    "                                        dtick = [200, 400, 600, 800],\n",
    "                                        xanchor = 'center'\n",
    "                                    ),\n",
    "                                    ))\n",
    "\n",
    "fig.update_geos(\n",
    "    visible=False, resolution=50, scope=\"europe\",\n",
    "    showcountries=True, countrycolor=\"Black\"\n",
    ")\n",
    "fig.update_layout(\n",
    "    title = \"Inflação na Europa em 1995\",\n",
    "    #margin={\"r\": 0, \"t\": 0, \"l\": 0, \"b\": 0}\n",
    "    )\n",
    "fig.show()"
   ]
  },
  {
   "cell_type": "code",
   "execution_count": 4,
   "metadata": {},
   "outputs": [
    {
     "data": {
      "application/vnd.plotly.v1+json": {
       "config": {
        "plotlyServerURL": "https://plot.ly"
       },
       "data": [
        {
         "colorbar": {
          "dtick": [
           200,
           400,
           600,
           800
          ],
          "title": {
           "text": "Inflação"
          },
          "xanchor": "center"
         },
         "colorscale": [
          [
           0,
           "rgb(255,245,240)"
          ],
          [
           0.125,
           "rgb(254,224,210)"
          ],
          [
           0.25,
           "rgb(252,187,161)"
          ],
          [
           0.375,
           "rgb(252,146,114)"
          ],
          [
           0.5,
           "rgb(251,106,74)"
          ],
          [
           0.625,
           "rgb(239,59,44)"
          ],
          [
           0.75,
           "rgb(203,24,29)"
          ],
          [
           0.875,
           "rgb(165,15,21)"
          ],
          [
           1,
           "rgb(103,0,13)"
          ]
         ],
         "hoverinfo": "text",
         "locations": [
          "BEL",
          "ALB",
          "AUT",
          "BLR",
          "BGR",
          "HRV",
          "CYP",
          "DNK",
          "EST",
          "CZE",
          "FIN",
          "DEU",
          "GRC",
          "FRA",
          "ISL",
          "HUN",
          "IRL",
          "ITA",
          "LVA",
          "LTU",
          "MLT",
          "MDA",
          "MNE",
          "NLD",
          "NOR",
          "PRT",
          "POL",
          "ROU",
          "RUS",
          "AFG",
          "DZA",
          "ASM",
          "AND",
          "AGO",
          "ATG",
          "ARG",
          "ARM",
          "ABW",
          "AUS",
          "AZE",
          null,
          "BHR",
          "BGD",
          "BRB",
          "BLZ",
          "BEN",
          "BMU",
          "BTN",
          "BOL",
          "BIH",
          "BWA",
          "BRA",
          "VGB",
          "BRN",
          "BFA",
          "BDI",
          "CPV",
          "KHM",
          "CMR",
          "CAN",
          "CYM",
          "CAF",
          "TCD",
          "CHI",
          "CHL",
          "CHN",
          "COL",
          "COM",
          null,
          null,
          "CRI",
          "CIV",
          "CUB",
          "CUW",
          "DJI",
          "DMA",
          "DOM",
          "ECU",
          null,
          "SLV",
          "GNQ",
          "ERI",
          "SWZ",
          "ETH",
          "FRO",
          "FJI",
          "PYF",
          "GAB",
          null,
          "GEO",
          "GHA",
          "GIB",
          "GRL",
          "GRD",
          "GUM",
          "GTM",
          "GIN",
          "GNB",
          "GUY",
          "HTI",
          "HND",
          null,
          "IND",
          "IDN",
          null,
          "IRQ",
          "IMN",
          "ISR",
          "JAM",
          "JPN",
          "JOR",
          "KAZ",
          "KEN",
          "KIR",
          null,
          null,
          "XKX",
          "KWT",
          "KGZ",
          "LAO",
          "LBN",
          "LSO",
          "LBR",
          "LBY",
          "LIE",
          "LUX",
          null,
          "MDG",
          "MWI",
          "MYS",
          "MDV",
          "MLI",
          "MHL",
          "MRT",
          "MUS",
          "MEX",
          null,
          "MCO",
          "MNG",
          "MAR",
          "MOZ",
          "MMR",
          "NAM",
          "NRU",
          "NPL",
          "NCL",
          "NZL",
          "NIC",
          "NER",
          "NGA",
          "MKD",
          "MNP",
          "OMN",
          "PAK",
          "PLW",
          "PAN",
          "PNG",
          "PRY",
          "PER",
          "PHL",
          "PRI",
          "QAT",
          "RWA",
          "WSM",
          "SMR",
          "STP",
          "SAU",
          "SEN",
          "SRB",
          "SYC",
          "SLE",
          "SGP",
          "SXM",
          "SVK",
          "SVN",
          "SLB",
          "SOM",
          "ZAF",
          "SSD",
          "ESP",
          "LKA",
          "KNA",
          "LCA",
          "MAF",
          "VCT",
          "SDN",
          "SUR",
          "SWE",
          "CHE",
          "SYR",
          "TJK",
          "TZA",
          "THA",
          "TLS",
          "TGO",
          "TON",
          "TTO",
          "TUN",
          "TUR",
          "TKM",
          "TCA",
          "TUV",
          "UGA",
          "UKR",
          "ARE",
          "GBR",
          "USA",
          "URY",
          "UZB",
          "VUT",
          null,
          "VNM",
          "VIR",
          "PSE",
          null,
          "ZMB",
          "ZWE",
          "BEL",
          "ALB",
          "AUT",
          "BLR",
          "BGR",
          "HRV",
          "CYP",
          "DNK",
          "EST",
          "CZE",
          "FIN",
          "DEU",
          "GRC",
          "FRA",
          "ISL",
          "HUN",
          "IRL",
          "ITA",
          "LVA",
          "LTU",
          "MLT",
          "MDA",
          "MNE",
          "NLD",
          "NOR",
          "PRT",
          "POL",
          "ROU",
          "RUS",
          "AFG",
          "DZA",
          "ASM",
          "AND",
          "AGO",
          "ATG",
          "ARG",
          "ARM",
          "ABW",
          "AUS",
          "AZE",
          null,
          "BHR",
          "BGD",
          "BRB",
          "BLZ",
          "BEN",
          "BMU",
          "BTN",
          "BOL",
          "BIH",
          "BWA",
          "BRA",
          "VGB",
          "BRN",
          "BFA",
          "BDI",
          "CPV",
          "KHM",
          "CMR",
          "CAN",
          "CYM",
          "CAF",
          "TCD",
          "CHI",
          "CHL",
          "CHN",
          "COL",
          "COM",
          null,
          null,
          "CRI",
          "CIV",
          "CUB",
          "CUW",
          "DJI",
          "DMA",
          "DOM",
          "ECU",
          null,
          "SLV",
          "GNQ",
          "ERI",
          "SWZ",
          "ETH",
          "FRO",
          "FJI",
          "PYF",
          "GAB",
          null,
          "GEO",
          "GHA",
          "GIB",
          "GRL",
          "GRD",
          "GUM",
          "GTM",
          "GIN",
          "GNB",
          "GUY",
          "HTI",
          "HND",
          null,
          "IND",
          "IDN",
          null,
          "IRQ",
          "IMN",
          "ISR",
          "JAM",
          "JPN",
          "JOR",
          "KAZ",
          "KEN",
          "KIR",
          null,
          null,
          "XKX",
          "KWT",
          "KGZ",
          "LAO",
          "LBN",
          "LSO",
          "LBR",
          "LBY",
          "LIE",
          "LUX",
          null,
          "MDG",
          "MWI",
          "MYS",
          "MDV",
          "MLI",
          "MHL",
          "MRT",
          "MUS",
          "MEX",
          null,
          "MCO",
          "MNG",
          "MAR",
          "MOZ",
          "MMR",
          "NAM",
          "NRU",
          "NPL",
          "NCL",
          "NZL",
          "NIC",
          "NER",
          "NGA",
          "MKD",
          "MNP",
          "OMN",
          "PAK",
          "PLW",
          "PAN",
          "PNG",
          "PRY",
          "PER",
          "PHL",
          "PRI",
          "QAT",
          "RWA",
          "WSM",
          "SMR",
          "STP",
          "SAU",
          "SEN",
          "SRB",
          "SYC",
          "SLE",
          "SGP",
          "SXM",
          "SVK",
          "SVN",
          "SLB",
          "SOM",
          "ZAF",
          "SSD",
          "ESP",
          "LKA",
          "KNA",
          "LCA",
          "MAF",
          "VCT",
          "SDN",
          "SUR",
          "SWE",
          "CHE",
          "SYR",
          "TJK",
          "TZA",
          "THA",
          "TLS",
          "TGO",
          "TON",
          "TTO",
          "TUN",
          "TUR",
          "TKM",
          "TCA",
          "TUV",
          "UGA",
          "UKR",
          "ARE",
          "GBR",
          "USA",
          "URY",
          "UZB",
          "VUT",
          null,
          "VNM",
          "VIR",
          "PSE",
          null,
          "ZMB",
          "ZWE",
          "BEL",
          "ALB",
          "AUT",
          "BLR",
          "BGR",
          "HRV",
          "CYP",
          "DNK",
          "EST",
          "CZE",
          "FIN",
          "DEU",
          "GRC",
          "FRA",
          "ISL",
          "HUN",
          "IRL",
          "ITA",
          "LVA",
          "LTU",
          "MLT",
          "MDA",
          "MNE",
          "NLD",
          "NOR",
          "PRT",
          "POL",
          "ROU",
          "RUS",
          "AFG",
          "DZA",
          "ASM",
          "AND",
          "AGO",
          "ATG",
          "ARG",
          "ARM",
          "ABW",
          "AUS",
          "AZE",
          null,
          "BHR",
          "BGD",
          "BRB",
          "BLZ",
          "BEN",
          "BMU",
          "BTN",
          "BOL",
          "BIH",
          "BWA",
          "BRA",
          "VGB",
          "BRN",
          "BFA",
          "BDI",
          "CPV",
          "KHM",
          "CMR",
          "CAN",
          "CYM",
          "CAF",
          "TCD",
          "CHI",
          "CHL",
          "CHN",
          "COL",
          "COM",
          null,
          null,
          "CRI",
          "CIV",
          "CUB",
          "CUW",
          "DJI",
          "DMA",
          "DOM",
          "ECU",
          null,
          "SLV",
          "GNQ",
          "ERI",
          "SWZ",
          "ETH",
          "FRO",
          "FJI",
          "PYF",
          "GAB",
          null,
          "GEO",
          "GHA",
          "GIB",
          "GRL",
          "GRD",
          "GUM",
          "GTM",
          "GIN",
          "GNB",
          "GUY",
          "HTI",
          "HND",
          null,
          "IND",
          "IDN",
          null,
          "IRQ",
          "IMN",
          "ISR",
          "JAM",
          "JPN",
          "JOR",
          "KAZ",
          "KEN",
          "KIR",
          null,
          null,
          "XKX",
          "KWT",
          "KGZ",
          "LAO",
          "LBN",
          "LSO",
          "LBR",
          "LBY",
          "LIE",
          "LUX",
          null,
          "MDG",
          "MWI",
          "MYS",
          "MDV",
          "MLI",
          "MHL",
          "MRT",
          "MUS",
          "MEX",
          null,
          "MCO",
          "MNG",
          "MAR",
          "MOZ",
          "MMR",
          "NAM",
          "NRU",
          "NPL",
          "NCL",
          "NZL",
          "NIC",
          "NER",
          "NGA",
          "MKD",
          "MNP",
          "OMN",
          "PAK",
          "PLW",
          "PAN",
          "PNG",
          "PRY",
          "PER",
          "PHL",
          "PRI",
          "QAT",
          "RWA",
          "WSM",
          "SMR",
          "STP",
          "SAU",
          "SEN",
          "SRB",
          "SYC",
          "SLE",
          "SGP",
          "SXM",
          "SVK",
          "SVN",
          "SLB",
          "SOM",
          "ZAF",
          "SSD",
          "ESP",
          "LKA",
          "KNA",
          "LCA",
          "MAF",
          "VCT",
          "SDN",
          "SUR",
          "SWE",
          "CHE",
          "SYR",
          "TJK",
          "TZA",
          "THA",
          "TLS",
          "TGO",
          "TON",
          "TTO",
          "TUN",
          "TUR",
          "TKM",
          "TCA",
          "TUV",
          "UGA",
          "UKR",
          "ARE",
          "GBR",
          "USA",
          "URY",
          "UZB",
          "VUT",
          null,
          "VNM",
          "VIR",
          "PSE",
          null,
          "ZMB",
          "ZWE",
          "BEL",
          "ALB",
          "AUT",
          "BLR",
          "BGR",
          "HRV",
          "CYP",
          "DNK",
          "EST",
          "CZE",
          "FIN",
          "DEU",
          "GRC",
          "FRA",
          "ISL",
          "HUN",
          "IRL",
          "ITA",
          "LVA",
          "LTU",
          "MLT",
          "MDA",
          "MNE",
          "NLD",
          "NOR",
          "PRT",
          "POL",
          "ROU",
          "RUS",
          "AFG",
          "DZA",
          "ASM",
          "AND",
          "AGO",
          "ATG",
          "ARG",
          "ARM",
          "ABW",
          "AUS",
          "AZE",
          null,
          "BHR",
          "BGD",
          "BRB",
          "BLZ",
          "BEN",
          "BMU",
          "BTN",
          "BOL",
          "BIH",
          "BWA",
          "BRA",
          "VGB",
          "BRN",
          "BFA",
          "BDI",
          "CPV",
          "KHM",
          "CMR",
          "CAN",
          "CYM",
          "CAF",
          "TCD",
          "CHI",
          "CHL",
          "CHN",
          "COL",
          "COM",
          null,
          null,
          "CRI",
          "CIV",
          "CUB",
          "CUW",
          "DJI",
          "DMA",
          "DOM",
          "ECU",
          null,
          "SLV",
          "GNQ",
          "ERI",
          "SWZ",
          "ETH",
          "FRO",
          "FJI",
          "PYF",
          "GAB",
          null,
          "GEO",
          "GHA",
          "GIB",
          "GRL",
          "GRD",
          "GUM",
          "GTM",
          "GIN",
          "GNB",
          "GUY",
          "HTI",
          "HND",
          null,
          "IND",
          "IDN",
          null,
          "IRQ",
          "IMN",
          "ISR",
          "JAM",
          "JPN",
          "JOR",
          "KAZ",
          "KEN",
          "KIR",
          null,
          null,
          "XKX",
          "KWT",
          "KGZ",
          "LAO",
          "LBN",
          "LSO",
          "LBR",
          "LBY",
          "LIE",
          "LUX",
          null,
          "MDG",
          "MWI",
          "MYS",
          "MDV",
          "MLI",
          "MHL",
          "MRT",
          "MUS",
          "MEX",
          null,
          "MCO",
          "MNG",
          "MAR",
          "MOZ",
          "MMR",
          "NAM",
          "NRU",
          "NPL",
          "NCL",
          "NZL",
          "NIC",
          "NER",
          "NGA",
          "MKD",
          "MNP",
          "OMN",
          "PAK",
          "PLW",
          "PAN",
          "PNG",
          "PRY",
          "PER",
          "PHL",
          "PRI",
          "QAT",
          "RWA",
          "WSM",
          "SMR",
          "STP",
          "SAU",
          "SEN",
          "SRB",
          "SYC",
          "SLE",
          "SGP",
          "SXM",
          "SVK",
          "SVN",
          "SLB",
          "SOM",
          "ZAF",
          "SSD",
          "ESP",
          "LKA",
          "KNA",
          "LCA",
          "MAF",
          "VCT",
          "SDN",
          "SUR",
          "SWE",
          "CHE",
          "SYR",
          "TJK",
          "TZA",
          "THA",
          "TLS",
          "TGO",
          "TON",
          "TTO",
          "TUN",
          "TUR",
          "TKM",
          "TCA",
          "TUV",
          "UGA",
          "UKR",
          "ARE",
          "GBR",
          "USA",
          "URY",
          "UZB",
          "VUT",
          null,
          "VNM",
          "VIR",
          "PSE",
          null,
          "ZMB",
          "ZWE"
         ],
         "text": [
          76.8407317073171,
          74.362,
          76.6682926829268,
          68.4609756097561,
          71.0534146341463,
          72.0843902439024,
          75.133,
          75.2126829268293,
          67.5439024390244,
          73.0748780487805,
          76.409512195122,
          76.4219512195122,
          77.5853658536585,
          77.7512195121951,
          77.9843902439024,
          69.7917073170732,
          75.4698048780488,
          78.1707317073171,
          66.3912195121951,
          69.0063414634147,
          77.290243902439,
          65.099,
          74.109,
          77.4046341463415,
          77.7365853658537,
          75.3121951219512,
          71.8926829268293,
          69.4560975609756,
          64.6907317073171,
          52.544,
          67.454,
          null,
          null,
          45.849,
          73.636,
          73.133,
          69.311,
          73.349,
          77.8292682926829,
          62.305,
          73.799,
          59.467,
          73.298,
          69.887,
          55.295,
          null,
          59.516,
          59.534,
          70.284,
          55.059,
          67.919,
          74.24,
          72.816,
          49.446,
          44.059,
          64.093,
          56.308,
          53.222,
          78.0292682926829,
          null,
          47.35,
          46.711,
          77.749,
          74.609,
          70.008,
          69.933,
          58.015,
          76.552,
          51.61,
          74.623,
          null,
          56.302,
          null,
          68.988,
          71.041,
          66.33,
          51.592,
          54.914,
          56.148,
          48.302,
          77.3658536585366,
          66.286,
          76.008,
          60.704,
          68.851,
          56.565,
          76.556,
          65.6441463414634,
          72.109,
          73.29,
          64.195,
          49.866,
          48.952,
          63.136,
          55.547,
          67.139,
          60.596,
          65.237,
          66.464,
          73.264,
          77.4512195121951,
          71.549,
          79.5363414634147,
          70.87,
          63.5,
          55.617,
          63.014,
          72.441,
          75.537,
          65.790243902439,
          56.385,
          72.043,
          56.723,
          43.917,
          71.09,
          77.390243902439,
          76.5121951219512,
          54.961,
          43.641,
          72.384,
          67.476,
          47.816,
          null,
          60.259,
          70.3258536585366,
          71.646,
          null,
          60.612,
          64.736,
          46.04,
          58.259,
          58.634,
          null,
          59.318,
          72.009756097561,
          76.7341463414634,
          65.608,
          45.774,
          45.487,
          71.8487804878049,
          null,
          71.99,
          59.878,
          71.8446341463415,
          72.385,
          61.049,
          69.009,
          67.644,
          68.223,
          74.364,
          74.25,
          39.969,
          69.298,
          null,
          61.056,
          71.011,
          56.839,
          null,
          72.4829268292683,
          42.716,
          76.2951219512195,
          null,
          72.2536585365854,
          73.9585365853659,
          66.381,
          50.6,
          62.262,
          30.948,
          77.9807317073171,
          72.26,
          null,
          71.002,
          75.821,
          72.097,
          51.991,
          65.337,
          78.7404878048781,
          78.4170731707317,
          70.416,
          59.338,
          50.786,
          70.948,
          48.024,
          54.037,
          68.17,
          69.17,
          71.988,
          69.609,
          63.684,
          68.308,
          63.098,
          46.567,
          66.7419512195122,
          72.695,
          76.8365853658537,
          75.6219512195122,
          73.896,
          64.646,
          67.885,
          71.384,
          72.0099756097561,
          69.662,
          45.553,
          50.531
         ],
         "type": "choropleth",
         "z": [
          1.8855914917302232,
          1.871351061805659,
          1.8846157921118543,
          1.8354430838014866,
          1.851584953778386,
          1.8578412291452304,
          1.8758307302138268,
          1.8762910807605193,
          1.8295861489670477,
          1.863768099256489,
          1.8831474271189144,
          1.8832181219816624,
          1.8897798123876277,
          1.8907072095736452,
          1.8920076807754211,
          1.8438038226175628,
          1.877773227154559,
          1.893044177135101,
          1.8221106460916057,
          1.8388890028534803,
          1.8881246777897736,
          1.8135743173267551,
          1.8698709530938884,
          1.8887669622841514,
          1.8906254600238694,
          1.8768653061520943,
          1.8566846911310184,
          1.8417103785234716,
          1.8108420634090463,
          1.720523131103328,
          1.8290077082913856,
          null,
          null,
          1.661329867831165,
          1.867090189051021,
          1.8641133890501527,
          1.840802164773352,
          1.8653941972871084,
          1.8911429474737749,
          1.7945229003554206,
          1.8680504770340944,
          1.7742760296997284,
          1.8650921246982384,
          1.8443963981586238,
          1.742685862397225,
          null,
          1.7746337350999335,
          1.7747650631257013,
          1.846856470075585,
          1.7408283193270937,
          1.8319912829826712,
          1.8706379632108057,
          1.8622268181623178,
          1.694131164523868,
          1.6440346358149662,
          1.806810600074521,
          1.7505701019389612,
          1.7260911906333236,
          1.8922575344057295,
          null,
          1.6753199833392922,
          1.669419164865028,
          1.8906948118818356,
          1.8727912190890172,
          1.8451476708333387,
          1.8446821590925149,
          1.7635402965800446,
          1.8839565415740227,
          1.712733859069952,
          1.8728727045983515,
          null,
          1.7505238224452415,
          null,
          1.8387735546935997,
          1.8515090661070486,
          1.8217099972983763,
          1.7125823639292854,
          1.7396830793796927,
          1.749334291239805,
          1.6839651135875595,
          1.8885493219258307,
          1.8214218124955635,
          1.8808593050835178,
          1.7832173092085686,
          1.8379102523827466,
          1.7525477914613015,
          1.8839792337642154,
          1.817196004988395,
          1.8579894728526551,
          1.8650447216930992,
          1.8075012031938875,
          1.6978045326940079,
          1.6897704401885922,
          1.8002770635720973,
          1.744660608396088,
          1.8269748683728786,
          1.7824439569177262,
          1.8144939812860408,
          1.8225864748550051,
          1.864890626183622,
          1.8890282603553576,
          1.8546035682492985,
          1.90056561030104,
          1.8504624327615167,
          1.8027737252919755,
          1.7452075591670464,
          1.799437048616717,
          1.8599844368309264,
          1.8781597325524304,
          1.8181614964486679,
          1.7511635847694937,
          1.8575917893268146,
          1.7537591920091298,
          1.6426326655052157,
          1.8518085142282374,
          1.8886862153806765,
          1.8837306619780094,
          1.74005462598983,
          1.6398946935548493,
          1.8596425789093425,
          1.8291493295570278,
          1.6795732428256251,
          null,
          1.7800219202665541,
          1.847115012603207,
          1.8551919487261046,
          null,
          1.7825586145599743,
          1.8111458610907107,
          1.6631353149577541,
          1.7653630258081408,
          1.7681495226799584,
          null,
          1.7731864996792277,
          1.857391339935444,
          1.8849886660042687,
          1.816956798888183,
          1.660618865279015,
          1.6578872947897432,
          1.85641940111448,
          null,
          1.8572721735640414,
          1.7772672859350491,
          1.856394337568976,
          1.8596485787364037,
          1.7856785544719116,
          1.8389057341495352,
          1.830229280867813,
          1.8339308129136411,
          1.8713627421973036,
          1.87069645798925,
          1.6017232826130008,
          1.8407207006796595,
          null,
          1.7857283486879822,
          1.8513256285679671,
          1.754646428539347,
          null,
          1.8602357216463643,
          1.630590577839291,
          1.8824967715408372,
          null,
          1.858859842321651,
          1.8689883092044406,
          1.822043790573499,
          1.7041505168397992,
          1.7942230671176675,
          1.4906325881855624,
          1.8919873059347998,
          1.8588979572320035,
          null,
          1.851270582194151,
          1.8797895080199587,
          1.8579171938379835,
          1.715928170776631,
          1.815159189622787,
          1.8961981009585362,
          1.8944106287124447,
          1.8476713512188698,
          1.773332904238969,
          1.7057440083328799,
          1.8509401573522481,
          1.6814583303478174,
          1.7326912300685076,
          1.8335932939984563,
          1.839917775678681,
          1.85726010798508,
          1.8426653947491318,
          1.8040303336770105,
          1.8344715697488083,
          1.8000155937492155,
          1.6680782601484745,
          1.8243988992243774,
          1.8615045408853748,
          1.8855680564796296,
          1.878647878963234,
          1.868620930614804,
          1.8105416578835307,
          1.8317738223380184,
          1.8536008799779402,
          1.8573926638225797,
          1.8429959389205963,
          1.6585169837358564,
          1.7035578929381032
         ]
        }
       ],
       "layout": {
        "geo": {
         "countrycolor": "Black",
         "resolution": 50,
         "scope": "europe",
         "showcountries": true,
         "visible": false
        },
        "template": {
         "data": {
          "bar": [
           {
            "error_x": {
             "color": "#2a3f5f"
            },
            "error_y": {
             "color": "#2a3f5f"
            },
            "marker": {
             "line": {
              "color": "#E5ECF6",
              "width": 0.5
             },
             "pattern": {
              "fillmode": "overlay",
              "size": 10,
              "solidity": 0.2
             }
            },
            "type": "bar"
           }
          ],
          "barpolar": [
           {
            "marker": {
             "line": {
              "color": "#E5ECF6",
              "width": 0.5
             },
             "pattern": {
              "fillmode": "overlay",
              "size": 10,
              "solidity": 0.2
             }
            },
            "type": "barpolar"
           }
          ],
          "carpet": [
           {
            "aaxis": {
             "endlinecolor": "#2a3f5f",
             "gridcolor": "white",
             "linecolor": "white",
             "minorgridcolor": "white",
             "startlinecolor": "#2a3f5f"
            },
            "baxis": {
             "endlinecolor": "#2a3f5f",
             "gridcolor": "white",
             "linecolor": "white",
             "minorgridcolor": "white",
             "startlinecolor": "#2a3f5f"
            },
            "type": "carpet"
           }
          ],
          "choropleth": [
           {
            "colorbar": {
             "outlinewidth": 0,
             "ticks": ""
            },
            "type": "choropleth"
           }
          ],
          "contour": [
           {
            "colorbar": {
             "outlinewidth": 0,
             "ticks": ""
            },
            "colorscale": [
             [
              0,
              "#0d0887"
             ],
             [
              0.1111111111111111,
              "#46039f"
             ],
             [
              0.2222222222222222,
              "#7201a8"
             ],
             [
              0.3333333333333333,
              "#9c179e"
             ],
             [
              0.4444444444444444,
              "#bd3786"
             ],
             [
              0.5555555555555556,
              "#d8576b"
             ],
             [
              0.6666666666666666,
              "#ed7953"
             ],
             [
              0.7777777777777778,
              "#fb9f3a"
             ],
             [
              0.8888888888888888,
              "#fdca26"
             ],
             [
              1,
              "#f0f921"
             ]
            ],
            "type": "contour"
           }
          ],
          "contourcarpet": [
           {
            "colorbar": {
             "outlinewidth": 0,
             "ticks": ""
            },
            "type": "contourcarpet"
           }
          ],
          "heatmap": [
           {
            "colorbar": {
             "outlinewidth": 0,
             "ticks": ""
            },
            "colorscale": [
             [
              0,
              "#0d0887"
             ],
             [
              0.1111111111111111,
              "#46039f"
             ],
             [
              0.2222222222222222,
              "#7201a8"
             ],
             [
              0.3333333333333333,
              "#9c179e"
             ],
             [
              0.4444444444444444,
              "#bd3786"
             ],
             [
              0.5555555555555556,
              "#d8576b"
             ],
             [
              0.6666666666666666,
              "#ed7953"
             ],
             [
              0.7777777777777778,
              "#fb9f3a"
             ],
             [
              0.8888888888888888,
              "#fdca26"
             ],
             [
              1,
              "#f0f921"
             ]
            ],
            "type": "heatmap"
           }
          ],
          "heatmapgl": [
           {
            "colorbar": {
             "outlinewidth": 0,
             "ticks": ""
            },
            "colorscale": [
             [
              0,
              "#0d0887"
             ],
             [
              0.1111111111111111,
              "#46039f"
             ],
             [
              0.2222222222222222,
              "#7201a8"
             ],
             [
              0.3333333333333333,
              "#9c179e"
             ],
             [
              0.4444444444444444,
              "#bd3786"
             ],
             [
              0.5555555555555556,
              "#d8576b"
             ],
             [
              0.6666666666666666,
              "#ed7953"
             ],
             [
              0.7777777777777778,
              "#fb9f3a"
             ],
             [
              0.8888888888888888,
              "#fdca26"
             ],
             [
              1,
              "#f0f921"
             ]
            ],
            "type": "heatmapgl"
           }
          ],
          "histogram": [
           {
            "marker": {
             "pattern": {
              "fillmode": "overlay",
              "size": 10,
              "solidity": 0.2
             }
            },
            "type": "histogram"
           }
          ],
          "histogram2d": [
           {
            "colorbar": {
             "outlinewidth": 0,
             "ticks": ""
            },
            "colorscale": [
             [
              0,
              "#0d0887"
             ],
             [
              0.1111111111111111,
              "#46039f"
             ],
             [
              0.2222222222222222,
              "#7201a8"
             ],
             [
              0.3333333333333333,
              "#9c179e"
             ],
             [
              0.4444444444444444,
              "#bd3786"
             ],
             [
              0.5555555555555556,
              "#d8576b"
             ],
             [
              0.6666666666666666,
              "#ed7953"
             ],
             [
              0.7777777777777778,
              "#fb9f3a"
             ],
             [
              0.8888888888888888,
              "#fdca26"
             ],
             [
              1,
              "#f0f921"
             ]
            ],
            "type": "histogram2d"
           }
          ],
          "histogram2dcontour": [
           {
            "colorbar": {
             "outlinewidth": 0,
             "ticks": ""
            },
            "colorscale": [
             [
              0,
              "#0d0887"
             ],
             [
              0.1111111111111111,
              "#46039f"
             ],
             [
              0.2222222222222222,
              "#7201a8"
             ],
             [
              0.3333333333333333,
              "#9c179e"
             ],
             [
              0.4444444444444444,
              "#bd3786"
             ],
             [
              0.5555555555555556,
              "#d8576b"
             ],
             [
              0.6666666666666666,
              "#ed7953"
             ],
             [
              0.7777777777777778,
              "#fb9f3a"
             ],
             [
              0.8888888888888888,
              "#fdca26"
             ],
             [
              1,
              "#f0f921"
             ]
            ],
            "type": "histogram2dcontour"
           }
          ],
          "mesh3d": [
           {
            "colorbar": {
             "outlinewidth": 0,
             "ticks": ""
            },
            "type": "mesh3d"
           }
          ],
          "parcoords": [
           {
            "line": {
             "colorbar": {
              "outlinewidth": 0,
              "ticks": ""
             }
            },
            "type": "parcoords"
           }
          ],
          "pie": [
           {
            "automargin": true,
            "type": "pie"
           }
          ],
          "scatter": [
           {
            "fillpattern": {
             "fillmode": "overlay",
             "size": 10,
             "solidity": 0.2
            },
            "type": "scatter"
           }
          ],
          "scatter3d": [
           {
            "line": {
             "colorbar": {
              "outlinewidth": 0,
              "ticks": ""
             }
            },
            "marker": {
             "colorbar": {
              "outlinewidth": 0,
              "ticks": ""
             }
            },
            "type": "scatter3d"
           }
          ],
          "scattercarpet": [
           {
            "marker": {
             "colorbar": {
              "outlinewidth": 0,
              "ticks": ""
             }
            },
            "type": "scattercarpet"
           }
          ],
          "scattergeo": [
           {
            "marker": {
             "colorbar": {
              "outlinewidth": 0,
              "ticks": ""
             }
            },
            "type": "scattergeo"
           }
          ],
          "scattergl": [
           {
            "marker": {
             "colorbar": {
              "outlinewidth": 0,
              "ticks": ""
             }
            },
            "type": "scattergl"
           }
          ],
          "scattermapbox": [
           {
            "marker": {
             "colorbar": {
              "outlinewidth": 0,
              "ticks": ""
             }
            },
            "type": "scattermapbox"
           }
          ],
          "scatterpolar": [
           {
            "marker": {
             "colorbar": {
              "outlinewidth": 0,
              "ticks": ""
             }
            },
            "type": "scatterpolar"
           }
          ],
          "scatterpolargl": [
           {
            "marker": {
             "colorbar": {
              "outlinewidth": 0,
              "ticks": ""
             }
            },
            "type": "scatterpolargl"
           }
          ],
          "scatterternary": [
           {
            "marker": {
             "colorbar": {
              "outlinewidth": 0,
              "ticks": ""
             }
            },
            "type": "scatterternary"
           }
          ],
          "surface": [
           {
            "colorbar": {
             "outlinewidth": 0,
             "ticks": ""
            },
            "colorscale": [
             [
              0,
              "#0d0887"
             ],
             [
              0.1111111111111111,
              "#46039f"
             ],
             [
              0.2222222222222222,
              "#7201a8"
             ],
             [
              0.3333333333333333,
              "#9c179e"
             ],
             [
              0.4444444444444444,
              "#bd3786"
             ],
             [
              0.5555555555555556,
              "#d8576b"
             ],
             [
              0.6666666666666666,
              "#ed7953"
             ],
             [
              0.7777777777777778,
              "#fb9f3a"
             ],
             [
              0.8888888888888888,
              "#fdca26"
             ],
             [
              1,
              "#f0f921"
             ]
            ],
            "type": "surface"
           }
          ],
          "table": [
           {
            "cells": {
             "fill": {
              "color": "#EBF0F8"
             },
             "line": {
              "color": "white"
             }
            },
            "header": {
             "fill": {
              "color": "#C8D4E3"
             },
             "line": {
              "color": "white"
             }
            },
            "type": "table"
           }
          ]
         },
         "layout": {
          "annotationdefaults": {
           "arrowcolor": "#2a3f5f",
           "arrowhead": 0,
           "arrowwidth": 1
          },
          "autotypenumbers": "strict",
          "coloraxis": {
           "colorbar": {
            "outlinewidth": 0,
            "ticks": ""
           }
          },
          "colorscale": {
           "diverging": [
            [
             0,
             "#8e0152"
            ],
            [
             0.1,
             "#c51b7d"
            ],
            [
             0.2,
             "#de77ae"
            ],
            [
             0.3,
             "#f1b6da"
            ],
            [
             0.4,
             "#fde0ef"
            ],
            [
             0.5,
             "#f7f7f7"
            ],
            [
             0.6,
             "#e6f5d0"
            ],
            [
             0.7,
             "#b8e186"
            ],
            [
             0.8,
             "#7fbc41"
            ],
            [
             0.9,
             "#4d9221"
            ],
            [
             1,
             "#276419"
            ]
           ],
           "sequential": [
            [
             0,
             "#0d0887"
            ],
            [
             0.1111111111111111,
             "#46039f"
            ],
            [
             0.2222222222222222,
             "#7201a8"
            ],
            [
             0.3333333333333333,
             "#9c179e"
            ],
            [
             0.4444444444444444,
             "#bd3786"
            ],
            [
             0.5555555555555556,
             "#d8576b"
            ],
            [
             0.6666666666666666,
             "#ed7953"
            ],
            [
             0.7777777777777778,
             "#fb9f3a"
            ],
            [
             0.8888888888888888,
             "#fdca26"
            ],
            [
             1,
             "#f0f921"
            ]
           ],
           "sequentialminus": [
            [
             0,
             "#0d0887"
            ],
            [
             0.1111111111111111,
             "#46039f"
            ],
            [
             0.2222222222222222,
             "#7201a8"
            ],
            [
             0.3333333333333333,
             "#9c179e"
            ],
            [
             0.4444444444444444,
             "#bd3786"
            ],
            [
             0.5555555555555556,
             "#d8576b"
            ],
            [
             0.6666666666666666,
             "#ed7953"
            ],
            [
             0.7777777777777778,
             "#fb9f3a"
            ],
            [
             0.8888888888888888,
             "#fdca26"
            ],
            [
             1,
             "#f0f921"
            ]
           ]
          },
          "colorway": [
           "#636efa",
           "#EF553B",
           "#00cc96",
           "#ab63fa",
           "#FFA15A",
           "#19d3f3",
           "#FF6692",
           "#B6E880",
           "#FF97FF",
           "#FECB52"
          ],
          "font": {
           "color": "#2a3f5f"
          },
          "geo": {
           "bgcolor": "white",
           "lakecolor": "white",
           "landcolor": "#E5ECF6",
           "showlakes": true,
           "showland": true,
           "subunitcolor": "white"
          },
          "hoverlabel": {
           "align": "left"
          },
          "hovermode": "closest",
          "mapbox": {
           "style": "light"
          },
          "paper_bgcolor": "white",
          "plot_bgcolor": "#E5ECF6",
          "polar": {
           "angularaxis": {
            "gridcolor": "white",
            "linecolor": "white",
            "ticks": ""
           },
           "bgcolor": "#E5ECF6",
           "radialaxis": {
            "gridcolor": "white",
            "linecolor": "white",
            "ticks": ""
           }
          },
          "scene": {
           "xaxis": {
            "backgroundcolor": "#E5ECF6",
            "gridcolor": "white",
            "gridwidth": 2,
            "linecolor": "white",
            "showbackground": true,
            "ticks": "",
            "zerolinecolor": "white"
           },
           "yaxis": {
            "backgroundcolor": "#E5ECF6",
            "gridcolor": "white",
            "gridwidth": 2,
            "linecolor": "white",
            "showbackground": true,
            "ticks": "",
            "zerolinecolor": "white"
           },
           "zaxis": {
            "backgroundcolor": "#E5ECF6",
            "gridcolor": "white",
            "gridwidth": 2,
            "linecolor": "white",
            "showbackground": true,
            "ticks": "",
            "zerolinecolor": "white"
           }
          },
          "shapedefaults": {
           "line": {
            "color": "#2a3f5f"
           }
          },
          "ternary": {
           "aaxis": {
            "gridcolor": "white",
            "linecolor": "white",
            "ticks": ""
           },
           "baxis": {
            "gridcolor": "white",
            "linecolor": "white",
            "ticks": ""
           },
           "bgcolor": "#E5ECF6",
           "caxis": {
            "gridcolor": "white",
            "linecolor": "white",
            "ticks": ""
           }
          },
          "title": {
           "x": 0.05
          },
          "xaxis": {
           "automargin": true,
           "gridcolor": "white",
           "linecolor": "white",
           "ticks": "",
           "title": {
            "standoff": 15
           },
           "zerolinecolor": "white",
           "zerolinewidth": 2
          },
          "yaxis": {
           "automargin": true,
           "gridcolor": "white",
           "linecolor": "white",
           "ticks": "",
           "title": {
            "standoff": 15
           },
           "zerolinecolor": "white",
           "zerolinewidth": 2
          }
         }
        },
        "title": {
         "text": "Expectativa de Vida na Europa em 1995"
        }
       }
      }
     },
     "metadata": {},
     "output_type": "display_data"
    }
   ],
   "source": [
    "fig1 = go.Figure(data=go.Choropleth(locations=paises['Country Code'],\n",
    "                                    z = np.log10(paises['1995'].loc[paises['Series Name']=='life_expectancy']),\n",
    "                                    hoverinfo = 'text',\n",
    "                                    text= paises['1995'].loc[paises['Series Name']=='life_expectancy'],\n",
    "                                    colorscale='Reds',\n",
    "                                    colorbar=dict(\n",
    "                                        title='Inflação',\n",
    "                                        dtick = [200, 400, 600, 800],\n",
    "                                        xanchor = 'center'\n",
    "                                    ),\n",
    "                                    \n",
    "                                    ))\n",
    "\n",
    "fig1.update_geos(\n",
    "    visible=False, resolution=50, scope=\"europe\",\n",
    "    showcountries=True, countrycolor=\"Black\"\n",
    ")\n",
    "fig1.update_layout(\n",
    "    title = \"Expectativa de Vida na Europa em 1995\"\n",
    "    #margin={\"r\": 0, \"t\": 0, \"l\": 0, \"b\": 0}\n",
    "    )\n",
    "fig1.show()"
   ]
  },
  {
   "cell_type": "code",
   "execution_count": 5,
   "metadata": {},
   "outputs": [
    {
     "name": "stdout",
     "output_type": "stream",
     "text": [
      "Dash app running on http://127.0.0.1:8051/\n"
     ]
    },
    {
     "ename": "",
     "evalue": "",
     "output_type": "error",
     "traceback": [
      "\u001b[1;31mThe Kernel crashed while executing code in the the current cell or a previous cell. Please review the code in the cell(s) to identify a possible cause of the failure. Click <a href='https://aka.ms/vscodeJupyterKernelCrash'>here</a> for more info. View Jupyter <a href='command:jupyter.viewOutput'>log</a> for further details."
     ]
    }
   ],
   "source": [
    "app = JupyterDash(__name__)\n",
    "app.layout = html.Div(\n",
    "    [\n",
    "    html.H1('Teste'),\n",
    "    dcc.Graph(figure=fig),\n",
    "    dcc.Graph(figure=fig1)\n",
    "    ]\n",
    ")\n",
    "\n",
    "if __name__ == \"__main__\":\n",
    "    app.run_server(debug=True, port=8051, use_reloader=False)"
   ]
  },
  {
   "cell_type": "code",
   "execution_count": null,
   "metadata": {},
   "outputs": [],
   "source": []
  }
 ],
 "metadata": {
  "kernelspec": {
   "display_name": "Python 3",
   "language": "python",
   "name": "python3"
  },
  "language_info": {
   "codemirror_mode": {
    "name": "ipython",
    "version": 3
   },
   "file_extension": ".py",
   "mimetype": "text/x-python",
   "name": "python",
   "nbconvert_exporter": "python",
   "pygments_lexer": "ipython3",
   "version": "3.10.6"
  },
  "orig_nbformat": 4
 },
 "nbformat": 4,
 "nbformat_minor": 2
}
